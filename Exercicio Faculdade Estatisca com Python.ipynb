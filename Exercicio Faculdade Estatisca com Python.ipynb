{
  "nbformat": 4,
  "nbformat_minor": 0,
  "metadata": {
    "colab": {
      "name": "codigo_checkpoint2 (1).ipynb",
      "provenance": [],
      "collapsed_sections": []
    },
    "kernelspec": {
      "name": "python3",
      "display_name": "Python 3"
    }
  },
  "cells": [
    {
      "cell_type": "markdown",
      "metadata": {
        "id": "MVYnsCKTRFt7"
      },
      "source": [
        "# Checkpoint 1"
      ]
    },
    {
      "cell_type": "markdown",
      "metadata": {
        "id": "VB6rsGNoRIEs"
      },
      "source": [
        "## Carregar módulos"
      ]
    },
    {
      "cell_type": "code",
      "metadata": {
        "id": "IRai7_OaRIJQ"
      },
      "source": [
        "import numpy as np\n",
        "import pandas as pd\n",
        "import matplotlib.pyplot as plt\n",
        "%matplotlib inline\n",
        "import seaborn as sns"
      ],
      "execution_count": 24,
      "outputs": []
    },
    {
      "cell_type": "markdown",
      "metadata": {
        "id": "KOHsl-KNRINm"
      },
      "source": [
        "## Carregar dados"
      ]
    },
    {
      "cell_type": "code",
      "metadata": {
        "id": "bKE4njwDRIRm"
      },
      "source": [
        "path = 'https://raw.githubusercontent.com/CSSEGISandData/COVID-19/master/csse_covid_19_data/csse_covid_19_time_series/time_series_covid19_confirmed_global.csv'\n",
        "path_dead =  'https://raw.githubusercontent.com/CSSEGISandData/COVID-19/master/csse_covid_19_data/csse_covid_19_time_series/time_series_covid19_deaths_global.csv'"
      ],
      "execution_count": 25,
      "outputs": []
    },
    {
      "cell_type": "code",
      "metadata": {
        "id": "Pb1mQyrlRIVv"
      },
      "source": [
        "dados_paises_covid = pd.read_csv(path)\n",
        "dados_paises_covid_dead = pd.read_csv(path_dead)"
      ],
      "execution_count": 26,
      "outputs": []
    },
    {
      "cell_type": "code",
      "metadata": {
        "colab": {
          "base_uri": "https://localhost:8080/",
          "height": 445
        },
        "id": "bxzV_0QVFi29",
        "outputId": "de10c546-ecbc-49b4-d181-51e1cbbf4271"
      },
      "source": [
        "dados_paises_covid"
      ],
      "execution_count": 27,
      "outputs": [
        {
          "output_type": "execute_result",
          "data": {
            "text/html": [
              "<div>\n",
              "<style scoped>\n",
              "    .dataframe tbody tr th:only-of-type {\n",
              "        vertical-align: middle;\n",
              "    }\n",
              "\n",
              "    .dataframe tbody tr th {\n",
              "        vertical-align: top;\n",
              "    }\n",
              "\n",
              "    .dataframe thead th {\n",
              "        text-align: right;\n",
              "    }\n",
              "</style>\n",
              "<table border=\"1\" class=\"dataframe\">\n",
              "  <thead>\n",
              "    <tr style=\"text-align: right;\">\n",
              "      <th></th>\n",
              "      <th>Province/State</th>\n",
              "      <th>Country/Region</th>\n",
              "      <th>Lat</th>\n",
              "      <th>Long</th>\n",
              "      <th>1/22/20</th>\n",
              "      <th>1/23/20</th>\n",
              "      <th>1/24/20</th>\n",
              "      <th>1/25/20</th>\n",
              "      <th>1/26/20</th>\n",
              "      <th>1/27/20</th>\n",
              "      <th>1/28/20</th>\n",
              "      <th>1/29/20</th>\n",
              "      <th>1/30/20</th>\n",
              "      <th>1/31/20</th>\n",
              "      <th>2/1/20</th>\n",
              "      <th>2/2/20</th>\n",
              "      <th>2/3/20</th>\n",
              "      <th>2/4/20</th>\n",
              "      <th>2/5/20</th>\n",
              "      <th>2/6/20</th>\n",
              "      <th>2/7/20</th>\n",
              "      <th>2/8/20</th>\n",
              "      <th>2/9/20</th>\n",
              "      <th>2/10/20</th>\n",
              "      <th>2/11/20</th>\n",
              "      <th>2/12/20</th>\n",
              "      <th>2/13/20</th>\n",
              "      <th>2/14/20</th>\n",
              "      <th>2/15/20</th>\n",
              "      <th>2/16/20</th>\n",
              "      <th>2/17/20</th>\n",
              "      <th>2/18/20</th>\n",
              "      <th>2/19/20</th>\n",
              "      <th>2/20/20</th>\n",
              "      <th>2/21/20</th>\n",
              "      <th>2/22/20</th>\n",
              "      <th>2/23/20</th>\n",
              "      <th>2/24/20</th>\n",
              "      <th>2/25/20</th>\n",
              "      <th>2/26/20</th>\n",
              "      <th>...</th>\n",
              "      <th>3/24/21</th>\n",
              "      <th>3/25/21</th>\n",
              "      <th>3/26/21</th>\n",
              "      <th>3/27/21</th>\n",
              "      <th>3/28/21</th>\n",
              "      <th>3/29/21</th>\n",
              "      <th>3/30/21</th>\n",
              "      <th>3/31/21</th>\n",
              "      <th>4/1/21</th>\n",
              "      <th>4/2/21</th>\n",
              "      <th>4/3/21</th>\n",
              "      <th>4/4/21</th>\n",
              "      <th>4/5/21</th>\n",
              "      <th>4/6/21</th>\n",
              "      <th>4/7/21</th>\n",
              "      <th>4/8/21</th>\n",
              "      <th>4/9/21</th>\n",
              "      <th>4/10/21</th>\n",
              "      <th>4/11/21</th>\n",
              "      <th>4/12/21</th>\n",
              "      <th>4/13/21</th>\n",
              "      <th>4/14/21</th>\n",
              "      <th>4/15/21</th>\n",
              "      <th>4/16/21</th>\n",
              "      <th>4/17/21</th>\n",
              "      <th>4/18/21</th>\n",
              "      <th>4/19/21</th>\n",
              "      <th>4/20/21</th>\n",
              "      <th>4/21/21</th>\n",
              "      <th>4/22/21</th>\n",
              "      <th>4/23/21</th>\n",
              "      <th>4/24/21</th>\n",
              "      <th>4/25/21</th>\n",
              "      <th>4/26/21</th>\n",
              "      <th>4/27/21</th>\n",
              "      <th>4/28/21</th>\n",
              "      <th>4/29/21</th>\n",
              "      <th>4/30/21</th>\n",
              "      <th>5/1/21</th>\n",
              "      <th>5/2/21</th>\n",
              "    </tr>\n",
              "  </thead>\n",
              "  <tbody>\n",
              "    <tr>\n",
              "      <th>0</th>\n",
              "      <td>NaN</td>\n",
              "      <td>Afghanistan</td>\n",
              "      <td>33.939110</td>\n",
              "      <td>67.709953</td>\n",
              "      <td>0</td>\n",
              "      <td>0</td>\n",
              "      <td>0</td>\n",
              "      <td>0</td>\n",
              "      <td>0</td>\n",
              "      <td>0</td>\n",
              "      <td>0</td>\n",
              "      <td>0</td>\n",
              "      <td>0</td>\n",
              "      <td>0</td>\n",
              "      <td>0</td>\n",
              "      <td>0</td>\n",
              "      <td>0</td>\n",
              "      <td>0</td>\n",
              "      <td>0</td>\n",
              "      <td>0</td>\n",
              "      <td>0</td>\n",
              "      <td>0</td>\n",
              "      <td>0</td>\n",
              "      <td>0</td>\n",
              "      <td>0</td>\n",
              "      <td>0</td>\n",
              "      <td>0</td>\n",
              "      <td>0</td>\n",
              "      <td>0</td>\n",
              "      <td>0</td>\n",
              "      <td>0</td>\n",
              "      <td>0</td>\n",
              "      <td>0</td>\n",
              "      <td>0</td>\n",
              "      <td>0</td>\n",
              "      <td>0</td>\n",
              "      <td>0</td>\n",
              "      <td>1</td>\n",
              "      <td>1</td>\n",
              "      <td>1</td>\n",
              "      <td>...</td>\n",
              "      <td>56192</td>\n",
              "      <td>56226</td>\n",
              "      <td>56254</td>\n",
              "      <td>56290</td>\n",
              "      <td>56294</td>\n",
              "      <td>56322</td>\n",
              "      <td>56384</td>\n",
              "      <td>56454</td>\n",
              "      <td>56517</td>\n",
              "      <td>56572</td>\n",
              "      <td>56595</td>\n",
              "      <td>56676</td>\n",
              "      <td>56717</td>\n",
              "      <td>56779</td>\n",
              "      <td>56873</td>\n",
              "      <td>56943</td>\n",
              "      <td>57019</td>\n",
              "      <td>57144</td>\n",
              "      <td>57160</td>\n",
              "      <td>57242</td>\n",
              "      <td>57364</td>\n",
              "      <td>57492</td>\n",
              "      <td>57534</td>\n",
              "      <td>57612</td>\n",
              "      <td>57721</td>\n",
              "      <td>57793</td>\n",
              "      <td>57898</td>\n",
              "      <td>58037</td>\n",
              "      <td>58214</td>\n",
              "      <td>58312</td>\n",
              "      <td>58542</td>\n",
              "      <td>58730</td>\n",
              "      <td>58843</td>\n",
              "      <td>59015</td>\n",
              "      <td>59225</td>\n",
              "      <td>59370</td>\n",
              "      <td>59576</td>\n",
              "      <td>59745</td>\n",
              "      <td>59939</td>\n",
              "      <td>60122</td>\n",
              "    </tr>\n",
              "    <tr>\n",
              "      <th>1</th>\n",
              "      <td>NaN</td>\n",
              "      <td>Albania</td>\n",
              "      <td>41.153300</td>\n",
              "      <td>20.168300</td>\n",
              "      <td>0</td>\n",
              "      <td>0</td>\n",
              "      <td>0</td>\n",
              "      <td>0</td>\n",
              "      <td>0</td>\n",
              "      <td>0</td>\n",
              "      <td>0</td>\n",
              "      <td>0</td>\n",
              "      <td>0</td>\n",
              "      <td>0</td>\n",
              "      <td>0</td>\n",
              "      <td>0</td>\n",
              "      <td>0</td>\n",
              "      <td>0</td>\n",
              "      <td>0</td>\n",
              "      <td>0</td>\n",
              "      <td>0</td>\n",
              "      <td>0</td>\n",
              "      <td>0</td>\n",
              "      <td>0</td>\n",
              "      <td>0</td>\n",
              "      <td>0</td>\n",
              "      <td>0</td>\n",
              "      <td>0</td>\n",
              "      <td>0</td>\n",
              "      <td>0</td>\n",
              "      <td>0</td>\n",
              "      <td>0</td>\n",
              "      <td>0</td>\n",
              "      <td>0</td>\n",
              "      <td>0</td>\n",
              "      <td>0</td>\n",
              "      <td>0</td>\n",
              "      <td>0</td>\n",
              "      <td>0</td>\n",
              "      <td>0</td>\n",
              "      <td>...</td>\n",
              "      <td>122295</td>\n",
              "      <td>122767</td>\n",
              "      <td>123216</td>\n",
              "      <td>123641</td>\n",
              "      <td>124134</td>\n",
              "      <td>124419</td>\n",
              "      <td>124723</td>\n",
              "      <td>125157</td>\n",
              "      <td>125506</td>\n",
              "      <td>125842</td>\n",
              "      <td>126183</td>\n",
              "      <td>126531</td>\n",
              "      <td>126795</td>\n",
              "      <td>126936</td>\n",
              "      <td>127192</td>\n",
              "      <td>127509</td>\n",
              "      <td>127795</td>\n",
              "      <td>128155</td>\n",
              "      <td>128393</td>\n",
              "      <td>128518</td>\n",
              "      <td>128752</td>\n",
              "      <td>128959</td>\n",
              "      <td>129128</td>\n",
              "      <td>129307</td>\n",
              "      <td>129456</td>\n",
              "      <td>129594</td>\n",
              "      <td>129694</td>\n",
              "      <td>129842</td>\n",
              "      <td>129980</td>\n",
              "      <td>130114</td>\n",
              "      <td>130270</td>\n",
              "      <td>130409</td>\n",
              "      <td>130537</td>\n",
              "      <td>130606</td>\n",
              "      <td>130736</td>\n",
              "      <td>130859</td>\n",
              "      <td>130977</td>\n",
              "      <td>131085</td>\n",
              "      <td>131185</td>\n",
              "      <td>131238</td>\n",
              "    </tr>\n",
              "    <tr>\n",
              "      <th>2</th>\n",
              "      <td>NaN</td>\n",
              "      <td>Algeria</td>\n",
              "      <td>28.033900</td>\n",
              "      <td>1.659600</td>\n",
              "      <td>0</td>\n",
              "      <td>0</td>\n",
              "      <td>0</td>\n",
              "      <td>0</td>\n",
              "      <td>0</td>\n",
              "      <td>0</td>\n",
              "      <td>0</td>\n",
              "      <td>0</td>\n",
              "      <td>0</td>\n",
              "      <td>0</td>\n",
              "      <td>0</td>\n",
              "      <td>0</td>\n",
              "      <td>0</td>\n",
              "      <td>0</td>\n",
              "      <td>0</td>\n",
              "      <td>0</td>\n",
              "      <td>0</td>\n",
              "      <td>0</td>\n",
              "      <td>0</td>\n",
              "      <td>0</td>\n",
              "      <td>0</td>\n",
              "      <td>0</td>\n",
              "      <td>0</td>\n",
              "      <td>0</td>\n",
              "      <td>0</td>\n",
              "      <td>0</td>\n",
              "      <td>0</td>\n",
              "      <td>0</td>\n",
              "      <td>0</td>\n",
              "      <td>0</td>\n",
              "      <td>0</td>\n",
              "      <td>0</td>\n",
              "      <td>0</td>\n",
              "      <td>0</td>\n",
              "      <td>1</td>\n",
              "      <td>1</td>\n",
              "      <td>...</td>\n",
              "      <td>116438</td>\n",
              "      <td>116543</td>\n",
              "      <td>116657</td>\n",
              "      <td>116750</td>\n",
              "      <td>116836</td>\n",
              "      <td>116946</td>\n",
              "      <td>117061</td>\n",
              "      <td>117192</td>\n",
              "      <td>117304</td>\n",
              "      <td>117429</td>\n",
              "      <td>117524</td>\n",
              "      <td>117622</td>\n",
              "      <td>117739</td>\n",
              "      <td>117879</td>\n",
              "      <td>118004</td>\n",
              "      <td>118116</td>\n",
              "      <td>118251</td>\n",
              "      <td>118378</td>\n",
              "      <td>118516</td>\n",
              "      <td>118645</td>\n",
              "      <td>118799</td>\n",
              "      <td>118975</td>\n",
              "      <td>119142</td>\n",
              "      <td>119323</td>\n",
              "      <td>119486</td>\n",
              "      <td>119642</td>\n",
              "      <td>119805</td>\n",
              "      <td>119992</td>\n",
              "      <td>120174</td>\n",
              "      <td>120363</td>\n",
              "      <td>120562</td>\n",
              "      <td>120736</td>\n",
              "      <td>120922</td>\n",
              "      <td>121112</td>\n",
              "      <td>121344</td>\n",
              "      <td>121580</td>\n",
              "      <td>121866</td>\n",
              "      <td>122108</td>\n",
              "      <td>122311</td>\n",
              "      <td>122522</td>\n",
              "    </tr>\n",
              "    <tr>\n",
              "      <th>3</th>\n",
              "      <td>NaN</td>\n",
              "      <td>Andorra</td>\n",
              "      <td>42.506300</td>\n",
              "      <td>1.521800</td>\n",
              "      <td>0</td>\n",
              "      <td>0</td>\n",
              "      <td>0</td>\n",
              "      <td>0</td>\n",
              "      <td>0</td>\n",
              "      <td>0</td>\n",
              "      <td>0</td>\n",
              "      <td>0</td>\n",
              "      <td>0</td>\n",
              "      <td>0</td>\n",
              "      <td>0</td>\n",
              "      <td>0</td>\n",
              "      <td>0</td>\n",
              "      <td>0</td>\n",
              "      <td>0</td>\n",
              "      <td>0</td>\n",
              "      <td>0</td>\n",
              "      <td>0</td>\n",
              "      <td>0</td>\n",
              "      <td>0</td>\n",
              "      <td>0</td>\n",
              "      <td>0</td>\n",
              "      <td>0</td>\n",
              "      <td>0</td>\n",
              "      <td>0</td>\n",
              "      <td>0</td>\n",
              "      <td>0</td>\n",
              "      <td>0</td>\n",
              "      <td>0</td>\n",
              "      <td>0</td>\n",
              "      <td>0</td>\n",
              "      <td>0</td>\n",
              "      <td>0</td>\n",
              "      <td>0</td>\n",
              "      <td>0</td>\n",
              "      <td>0</td>\n",
              "      <td>...</td>\n",
              "      <td>11638</td>\n",
              "      <td>11687</td>\n",
              "      <td>11732</td>\n",
              "      <td>11809</td>\n",
              "      <td>11850</td>\n",
              "      <td>11888</td>\n",
              "      <td>11944</td>\n",
              "      <td>12010</td>\n",
              "      <td>12053</td>\n",
              "      <td>12115</td>\n",
              "      <td>12174</td>\n",
              "      <td>12231</td>\n",
              "      <td>12286</td>\n",
              "      <td>12328</td>\n",
              "      <td>12363</td>\n",
              "      <td>12409</td>\n",
              "      <td>12456</td>\n",
              "      <td>12497</td>\n",
              "      <td>12545</td>\n",
              "      <td>12581</td>\n",
              "      <td>12614</td>\n",
              "      <td>12641</td>\n",
              "      <td>12641</td>\n",
              "      <td>12712</td>\n",
              "      <td>12771</td>\n",
              "      <td>12805</td>\n",
              "      <td>12805</td>\n",
              "      <td>12874</td>\n",
              "      <td>12917</td>\n",
              "      <td>12942</td>\n",
              "      <td>13007</td>\n",
              "      <td>13024</td>\n",
              "      <td>13060</td>\n",
              "      <td>13083</td>\n",
              "      <td>13121</td>\n",
              "      <td>13148</td>\n",
              "      <td>13198</td>\n",
              "      <td>13232</td>\n",
              "      <td>13232</td>\n",
              "      <td>13282</td>\n",
              "    </tr>\n",
              "    <tr>\n",
              "      <th>4</th>\n",
              "      <td>NaN</td>\n",
              "      <td>Angola</td>\n",
              "      <td>-11.202700</td>\n",
              "      <td>17.873900</td>\n",
              "      <td>0</td>\n",
              "      <td>0</td>\n",
              "      <td>0</td>\n",
              "      <td>0</td>\n",
              "      <td>0</td>\n",
              "      <td>0</td>\n",
              "      <td>0</td>\n",
              "      <td>0</td>\n",
              "      <td>0</td>\n",
              "      <td>0</td>\n",
              "      <td>0</td>\n",
              "      <td>0</td>\n",
              "      <td>0</td>\n",
              "      <td>0</td>\n",
              "      <td>0</td>\n",
              "      <td>0</td>\n",
              "      <td>0</td>\n",
              "      <td>0</td>\n",
              "      <td>0</td>\n",
              "      <td>0</td>\n",
              "      <td>0</td>\n",
              "      <td>0</td>\n",
              "      <td>0</td>\n",
              "      <td>0</td>\n",
              "      <td>0</td>\n",
              "      <td>0</td>\n",
              "      <td>0</td>\n",
              "      <td>0</td>\n",
              "      <td>0</td>\n",
              "      <td>0</td>\n",
              "      <td>0</td>\n",
              "      <td>0</td>\n",
              "      <td>0</td>\n",
              "      <td>0</td>\n",
              "      <td>0</td>\n",
              "      <td>0</td>\n",
              "      <td>...</td>\n",
              "      <td>21836</td>\n",
              "      <td>21914</td>\n",
              "      <td>21961</td>\n",
              "      <td>22031</td>\n",
              "      <td>22063</td>\n",
              "      <td>22132</td>\n",
              "      <td>22182</td>\n",
              "      <td>22311</td>\n",
              "      <td>22399</td>\n",
              "      <td>22467</td>\n",
              "      <td>22579</td>\n",
              "      <td>22631</td>\n",
              "      <td>22717</td>\n",
              "      <td>22885</td>\n",
              "      <td>23010</td>\n",
              "      <td>23108</td>\n",
              "      <td>23242</td>\n",
              "      <td>23331</td>\n",
              "      <td>23457</td>\n",
              "      <td>23549</td>\n",
              "      <td>23697</td>\n",
              "      <td>23841</td>\n",
              "      <td>23951</td>\n",
              "      <td>24122</td>\n",
              "      <td>24300</td>\n",
              "      <td>24389</td>\n",
              "      <td>24518</td>\n",
              "      <td>24661</td>\n",
              "      <td>24883</td>\n",
              "      <td>25051</td>\n",
              "      <td>25279</td>\n",
              "      <td>25492</td>\n",
              "      <td>25609</td>\n",
              "      <td>25710</td>\n",
              "      <td>25942</td>\n",
              "      <td>26168</td>\n",
              "      <td>26431</td>\n",
              "      <td>26652</td>\n",
              "      <td>26815</td>\n",
              "      <td>26993</td>\n",
              "    </tr>\n",
              "    <tr>\n",
              "      <th>...</th>\n",
              "      <td>...</td>\n",
              "      <td>...</td>\n",
              "      <td>...</td>\n",
              "      <td>...</td>\n",
              "      <td>...</td>\n",
              "      <td>...</td>\n",
              "      <td>...</td>\n",
              "      <td>...</td>\n",
              "      <td>...</td>\n",
              "      <td>...</td>\n",
              "      <td>...</td>\n",
              "      <td>...</td>\n",
              "      <td>...</td>\n",
              "      <td>...</td>\n",
              "      <td>...</td>\n",
              "      <td>...</td>\n",
              "      <td>...</td>\n",
              "      <td>...</td>\n",
              "      <td>...</td>\n",
              "      <td>...</td>\n",
              "      <td>...</td>\n",
              "      <td>...</td>\n",
              "      <td>...</td>\n",
              "      <td>...</td>\n",
              "      <td>...</td>\n",
              "      <td>...</td>\n",
              "      <td>...</td>\n",
              "      <td>...</td>\n",
              "      <td>...</td>\n",
              "      <td>...</td>\n",
              "      <td>...</td>\n",
              "      <td>...</td>\n",
              "      <td>...</td>\n",
              "      <td>...</td>\n",
              "      <td>...</td>\n",
              "      <td>...</td>\n",
              "      <td>...</td>\n",
              "      <td>...</td>\n",
              "      <td>...</td>\n",
              "      <td>...</td>\n",
              "      <td>...</td>\n",
              "      <td>...</td>\n",
              "      <td>...</td>\n",
              "      <td>...</td>\n",
              "      <td>...</td>\n",
              "      <td>...</td>\n",
              "      <td>...</td>\n",
              "      <td>...</td>\n",
              "      <td>...</td>\n",
              "      <td>...</td>\n",
              "      <td>...</td>\n",
              "      <td>...</td>\n",
              "      <td>...</td>\n",
              "      <td>...</td>\n",
              "      <td>...</td>\n",
              "      <td>...</td>\n",
              "      <td>...</td>\n",
              "      <td>...</td>\n",
              "      <td>...</td>\n",
              "      <td>...</td>\n",
              "      <td>...</td>\n",
              "      <td>...</td>\n",
              "      <td>...</td>\n",
              "      <td>...</td>\n",
              "      <td>...</td>\n",
              "      <td>...</td>\n",
              "      <td>...</td>\n",
              "      <td>...</td>\n",
              "      <td>...</td>\n",
              "      <td>...</td>\n",
              "      <td>...</td>\n",
              "      <td>...</td>\n",
              "      <td>...</td>\n",
              "      <td>...</td>\n",
              "      <td>...</td>\n",
              "      <td>...</td>\n",
              "      <td>...</td>\n",
              "      <td>...</td>\n",
              "      <td>...</td>\n",
              "      <td>...</td>\n",
              "      <td>...</td>\n",
              "    </tr>\n",
              "    <tr>\n",
              "      <th>270</th>\n",
              "      <td>NaN</td>\n",
              "      <td>Vietnam</td>\n",
              "      <td>14.058324</td>\n",
              "      <td>108.277199</td>\n",
              "      <td>0</td>\n",
              "      <td>2</td>\n",
              "      <td>2</td>\n",
              "      <td>2</td>\n",
              "      <td>2</td>\n",
              "      <td>2</td>\n",
              "      <td>2</td>\n",
              "      <td>2</td>\n",
              "      <td>2</td>\n",
              "      <td>2</td>\n",
              "      <td>6</td>\n",
              "      <td>6</td>\n",
              "      <td>8</td>\n",
              "      <td>8</td>\n",
              "      <td>8</td>\n",
              "      <td>10</td>\n",
              "      <td>10</td>\n",
              "      <td>13</td>\n",
              "      <td>13</td>\n",
              "      <td>14</td>\n",
              "      <td>15</td>\n",
              "      <td>15</td>\n",
              "      <td>16</td>\n",
              "      <td>16</td>\n",
              "      <td>16</td>\n",
              "      <td>16</td>\n",
              "      <td>16</td>\n",
              "      <td>16</td>\n",
              "      <td>16</td>\n",
              "      <td>16</td>\n",
              "      <td>16</td>\n",
              "      <td>16</td>\n",
              "      <td>16</td>\n",
              "      <td>16</td>\n",
              "      <td>16</td>\n",
              "      <td>16</td>\n",
              "      <td>...</td>\n",
              "      <td>2576</td>\n",
              "      <td>2579</td>\n",
              "      <td>2586</td>\n",
              "      <td>2586</td>\n",
              "      <td>2591</td>\n",
              "      <td>2594</td>\n",
              "      <td>2594</td>\n",
              "      <td>2603</td>\n",
              "      <td>2617</td>\n",
              "      <td>2620</td>\n",
              "      <td>2626</td>\n",
              "      <td>2631</td>\n",
              "      <td>2637</td>\n",
              "      <td>2648</td>\n",
              "      <td>2659</td>\n",
              "      <td>2668</td>\n",
              "      <td>2683</td>\n",
              "      <td>2692</td>\n",
              "      <td>2693</td>\n",
              "      <td>2705</td>\n",
              "      <td>2714</td>\n",
              "      <td>2733</td>\n",
              "      <td>2758</td>\n",
              "      <td>2772</td>\n",
              "      <td>2781</td>\n",
              "      <td>2785</td>\n",
              "      <td>2791</td>\n",
              "      <td>2800</td>\n",
              "      <td>2812</td>\n",
              "      <td>2824</td>\n",
              "      <td>2830</td>\n",
              "      <td>2833</td>\n",
              "      <td>2843</td>\n",
              "      <td>2852</td>\n",
              "      <td>2857</td>\n",
              "      <td>2865</td>\n",
              "      <td>2910</td>\n",
              "      <td>2928</td>\n",
              "      <td>2942</td>\n",
              "      <td>2962</td>\n",
              "    </tr>\n",
              "    <tr>\n",
              "      <th>271</th>\n",
              "      <td>NaN</td>\n",
              "      <td>West Bank and Gaza</td>\n",
              "      <td>31.952200</td>\n",
              "      <td>35.233200</td>\n",
              "      <td>0</td>\n",
              "      <td>0</td>\n",
              "      <td>0</td>\n",
              "      <td>0</td>\n",
              "      <td>0</td>\n",
              "      <td>0</td>\n",
              "      <td>0</td>\n",
              "      <td>0</td>\n",
              "      <td>0</td>\n",
              "      <td>0</td>\n",
              "      <td>0</td>\n",
              "      <td>0</td>\n",
              "      <td>0</td>\n",
              "      <td>0</td>\n",
              "      <td>0</td>\n",
              "      <td>0</td>\n",
              "      <td>0</td>\n",
              "      <td>0</td>\n",
              "      <td>0</td>\n",
              "      <td>0</td>\n",
              "      <td>0</td>\n",
              "      <td>0</td>\n",
              "      <td>0</td>\n",
              "      <td>0</td>\n",
              "      <td>0</td>\n",
              "      <td>0</td>\n",
              "      <td>0</td>\n",
              "      <td>0</td>\n",
              "      <td>0</td>\n",
              "      <td>0</td>\n",
              "      <td>0</td>\n",
              "      <td>0</td>\n",
              "      <td>0</td>\n",
              "      <td>0</td>\n",
              "      <td>0</td>\n",
              "      <td>0</td>\n",
              "      <td>...</td>\n",
              "      <td>230076</td>\n",
              "      <td>232038</td>\n",
              "      <td>233549</td>\n",
              "      <td>234748</td>\n",
              "      <td>236462</td>\n",
              "      <td>238248</td>\n",
              "      <td>240065</td>\n",
              "      <td>242353</td>\n",
              "      <td>244645</td>\n",
              "      <td>246893</td>\n",
              "      <td>248482</td>\n",
              "      <td>251288</td>\n",
              "      <td>253922</td>\n",
              "      <td>256461</td>\n",
              "      <td>259133</td>\n",
              "      <td>262017</td>\n",
              "      <td>264395</td>\n",
              "      <td>265897</td>\n",
              "      <td>268132</td>\n",
              "      <td>270856</td>\n",
              "      <td>272767</td>\n",
              "      <td>274690</td>\n",
              "      <td>276407</td>\n",
              "      <td>278135</td>\n",
              "      <td>279753</td>\n",
              "      <td>280741</td>\n",
              "      <td>282270</td>\n",
              "      <td>284280</td>\n",
              "      <td>286028</td>\n",
              "      <td>287680</td>\n",
              "      <td>289120</td>\n",
              "      <td>290259</td>\n",
              "      <td>290972</td>\n",
              "      <td>292052</td>\n",
              "      <td>293466</td>\n",
              "      <td>294550</td>\n",
              "      <td>295601</td>\n",
              "      <td>296462</td>\n",
              "      <td>296462</td>\n",
              "      <td>297638</td>\n",
              "    </tr>\n",
              "    <tr>\n",
              "      <th>272</th>\n",
              "      <td>NaN</td>\n",
              "      <td>Yemen</td>\n",
              "      <td>15.552727</td>\n",
              "      <td>48.516388</td>\n",
              "      <td>0</td>\n",
              "      <td>0</td>\n",
              "      <td>0</td>\n",
              "      <td>0</td>\n",
              "      <td>0</td>\n",
              "      <td>0</td>\n",
              "      <td>0</td>\n",
              "      <td>0</td>\n",
              "      <td>0</td>\n",
              "      <td>0</td>\n",
              "      <td>0</td>\n",
              "      <td>0</td>\n",
              "      <td>0</td>\n",
              "      <td>0</td>\n",
              "      <td>0</td>\n",
              "      <td>0</td>\n",
              "      <td>0</td>\n",
              "      <td>0</td>\n",
              "      <td>0</td>\n",
              "      <td>0</td>\n",
              "      <td>0</td>\n",
              "      <td>0</td>\n",
              "      <td>0</td>\n",
              "      <td>0</td>\n",
              "      <td>0</td>\n",
              "      <td>0</td>\n",
              "      <td>0</td>\n",
              "      <td>0</td>\n",
              "      <td>0</td>\n",
              "      <td>0</td>\n",
              "      <td>0</td>\n",
              "      <td>0</td>\n",
              "      <td>0</td>\n",
              "      <td>0</td>\n",
              "      <td>0</td>\n",
              "      <td>0</td>\n",
              "      <td>...</td>\n",
              "      <td>3703</td>\n",
              "      <td>3816</td>\n",
              "      <td>3900</td>\n",
              "      <td>3969</td>\n",
              "      <td>4033</td>\n",
              "      <td>4115</td>\n",
              "      <td>4247</td>\n",
              "      <td>4357</td>\n",
              "      <td>4531</td>\n",
              "      <td>4620</td>\n",
              "      <td>4697</td>\n",
              "      <td>4798</td>\n",
              "      <td>4881</td>\n",
              "      <td>4975</td>\n",
              "      <td>5047</td>\n",
              "      <td>5133</td>\n",
              "      <td>5233</td>\n",
              "      <td>5276</td>\n",
              "      <td>5357</td>\n",
              "      <td>5446</td>\n",
              "      <td>5507</td>\n",
              "      <td>5582</td>\n",
              "      <td>5657</td>\n",
              "      <td>5715</td>\n",
              "      <td>5770</td>\n",
              "      <td>5812</td>\n",
              "      <td>5858</td>\n",
              "      <td>5918</td>\n",
              "      <td>5960</td>\n",
              "      <td>6020</td>\n",
              "      <td>6056</td>\n",
              "      <td>6105</td>\n",
              "      <td>6137</td>\n",
              "      <td>6183</td>\n",
              "      <td>6220</td>\n",
              "      <td>6263</td>\n",
              "      <td>6294</td>\n",
              "      <td>6317</td>\n",
              "      <td>6325</td>\n",
              "      <td>6341</td>\n",
              "    </tr>\n",
              "    <tr>\n",
              "      <th>273</th>\n",
              "      <td>NaN</td>\n",
              "      <td>Zambia</td>\n",
              "      <td>-13.133897</td>\n",
              "      <td>27.849332</td>\n",
              "      <td>0</td>\n",
              "      <td>0</td>\n",
              "      <td>0</td>\n",
              "      <td>0</td>\n",
              "      <td>0</td>\n",
              "      <td>0</td>\n",
              "      <td>0</td>\n",
              "      <td>0</td>\n",
              "      <td>0</td>\n",
              "      <td>0</td>\n",
              "      <td>0</td>\n",
              "      <td>0</td>\n",
              "      <td>0</td>\n",
              "      <td>0</td>\n",
              "      <td>0</td>\n",
              "      <td>0</td>\n",
              "      <td>0</td>\n",
              "      <td>0</td>\n",
              "      <td>0</td>\n",
              "      <td>0</td>\n",
              "      <td>0</td>\n",
              "      <td>0</td>\n",
              "      <td>0</td>\n",
              "      <td>0</td>\n",
              "      <td>0</td>\n",
              "      <td>0</td>\n",
              "      <td>0</td>\n",
              "      <td>0</td>\n",
              "      <td>0</td>\n",
              "      <td>0</td>\n",
              "      <td>0</td>\n",
              "      <td>0</td>\n",
              "      <td>0</td>\n",
              "      <td>0</td>\n",
              "      <td>0</td>\n",
              "      <td>0</td>\n",
              "      <td>...</td>\n",
              "      <td>86993</td>\n",
              "      <td>87318</td>\n",
              "      <td>87583</td>\n",
              "      <td>87583</td>\n",
              "      <td>87872</td>\n",
              "      <td>88012</td>\n",
              "      <td>88199</td>\n",
              "      <td>88418</td>\n",
              "      <td>88549</td>\n",
              "      <td>88730</td>\n",
              "      <td>88800</td>\n",
              "      <td>88930</td>\n",
              "      <td>89009</td>\n",
              "      <td>89071</td>\n",
              "      <td>89386</td>\n",
              "      <td>89592</td>\n",
              "      <td>89783</td>\n",
              "      <td>89918</td>\n",
              "      <td>90029</td>\n",
              "      <td>90064</td>\n",
              "      <td>90218</td>\n",
              "      <td>90389</td>\n",
              "      <td>90532</td>\n",
              "      <td>90750</td>\n",
              "      <td>90844</td>\n",
              "      <td>90918</td>\n",
              "      <td>90942</td>\n",
              "      <td>91042</td>\n",
              "      <td>91119</td>\n",
              "      <td>91189</td>\n",
              "      <td>91251</td>\n",
              "      <td>91317</td>\n",
              "      <td>91358</td>\n",
              "      <td>91378</td>\n",
              "      <td>91418</td>\n",
              "      <td>91484</td>\n",
              "      <td>91533</td>\n",
              "      <td>91586</td>\n",
              "      <td>91670</td>\n",
              "      <td>91693</td>\n",
              "    </tr>\n",
              "    <tr>\n",
              "      <th>274</th>\n",
              "      <td>NaN</td>\n",
              "      <td>Zimbabwe</td>\n",
              "      <td>-19.015438</td>\n",
              "      <td>29.154857</td>\n",
              "      <td>0</td>\n",
              "      <td>0</td>\n",
              "      <td>0</td>\n",
              "      <td>0</td>\n",
              "      <td>0</td>\n",
              "      <td>0</td>\n",
              "      <td>0</td>\n",
              "      <td>0</td>\n",
              "      <td>0</td>\n",
              "      <td>0</td>\n",
              "      <td>0</td>\n",
              "      <td>0</td>\n",
              "      <td>0</td>\n",
              "      <td>0</td>\n",
              "      <td>0</td>\n",
              "      <td>0</td>\n",
              "      <td>0</td>\n",
              "      <td>0</td>\n",
              "      <td>0</td>\n",
              "      <td>0</td>\n",
              "      <td>0</td>\n",
              "      <td>0</td>\n",
              "      <td>0</td>\n",
              "      <td>0</td>\n",
              "      <td>0</td>\n",
              "      <td>0</td>\n",
              "      <td>0</td>\n",
              "      <td>0</td>\n",
              "      <td>0</td>\n",
              "      <td>0</td>\n",
              "      <td>0</td>\n",
              "      <td>0</td>\n",
              "      <td>0</td>\n",
              "      <td>0</td>\n",
              "      <td>0</td>\n",
              "      <td>0</td>\n",
              "      <td>...</td>\n",
              "      <td>36749</td>\n",
              "      <td>36778</td>\n",
              "      <td>36805</td>\n",
              "      <td>36818</td>\n",
              "      <td>36822</td>\n",
              "      <td>36839</td>\n",
              "      <td>36839</td>\n",
              "      <td>36882</td>\n",
              "      <td>36896</td>\n",
              "      <td>36903</td>\n",
              "      <td>36911</td>\n",
              "      <td>36923</td>\n",
              "      <td>36934</td>\n",
              "      <td>36966</td>\n",
              "      <td>36984</td>\n",
              "      <td>37052</td>\n",
              "      <td>37147</td>\n",
              "      <td>37273</td>\n",
              "      <td>37288</td>\n",
              "      <td>37307</td>\n",
              "      <td>37330</td>\n",
              "      <td>37369</td>\n",
              "      <td>37422</td>\n",
              "      <td>37534</td>\n",
              "      <td>37699</td>\n",
              "      <td>37751</td>\n",
              "      <td>37859</td>\n",
              "      <td>37875</td>\n",
              "      <td>37980</td>\n",
              "      <td>38018</td>\n",
              "      <td>38045</td>\n",
              "      <td>38064</td>\n",
              "      <td>38086</td>\n",
              "      <td>38102</td>\n",
              "      <td>38164</td>\n",
              "      <td>38191</td>\n",
              "      <td>38235</td>\n",
              "      <td>38257</td>\n",
              "      <td>38260</td>\n",
              "      <td>38281</td>\n",
              "    </tr>\n",
              "  </tbody>\n",
              "</table>\n",
              "<p>275 rows × 471 columns</p>\n",
              "</div>"
            ],
            "text/plain": [
              "    Province/State      Country/Region        Lat  ...  4/30/21  5/1/21  5/2/21\n",
              "0              NaN         Afghanistan  33.939110  ...    59745   59939   60122\n",
              "1              NaN             Albania  41.153300  ...   131085  131185  131238\n",
              "2              NaN             Algeria  28.033900  ...   122108  122311  122522\n",
              "3              NaN             Andorra  42.506300  ...    13232   13232   13282\n",
              "4              NaN              Angola -11.202700  ...    26652   26815   26993\n",
              "..             ...                 ...        ...  ...      ...     ...     ...\n",
              "270            NaN             Vietnam  14.058324  ...     2928    2942    2962\n",
              "271            NaN  West Bank and Gaza  31.952200  ...   296462  296462  297638\n",
              "272            NaN               Yemen  15.552727  ...     6317    6325    6341\n",
              "273            NaN              Zambia -13.133897  ...    91586   91670   91693\n",
              "274            NaN            Zimbabwe -19.015438  ...    38257   38260   38281\n",
              "\n",
              "[275 rows x 471 columns]"
            ]
          },
          "metadata": {
            "tags": []
          },
          "execution_count": 27
        }
      ]
    },
    {
      "cell_type": "markdown",
      "metadata": {
        "id": "0K9ECqiJRIZz"
      },
      "source": [
        "## Ajustes\n",
        "\n"
      ]
    },
    {
      "cell_type": "markdown",
      "metadata": {
        "id": "l-WQgrhUV8tq"
      },
      "source": [
        "- Nomes das colunas"
      ]
    },
    {
      "cell_type": "code",
      "metadata": {
        "id": "SaCpjFuARIeA"
      },
      "source": [
        "dados_paises_covid.rename(columns={\"Province/State\": \"province\", \n",
        "                                   \"Country/Region\": \"country\"}, \n",
        "                          inplace=True)"
      ],
      "execution_count": 28,
      "outputs": []
    },
    {
      "cell_type": "code",
      "metadata": {
        "id": "dL98RCsDS9Nf"
      },
      "source": [
        "dados_paises_covid_dead.rename(columns={\"Province/State\": \"province\", \n",
        "                                        \"Country/Region\": \"country\"}, \n",
        "                               inplace=True)"
      ],
      "execution_count": 29,
      "outputs": []
    },
    {
      "cell_type": "code",
      "metadata": {
        "colab": {
          "base_uri": "https://localhost:8080/"
        },
        "id": "C6QWe5tqS9Q_",
        "outputId": "d0ddcdd3-d27b-419d-8482-298d34eaa45f"
      },
      "source": [
        "dados_paises_covid_dead.columns"
      ],
      "execution_count": 30,
      "outputs": [
        {
          "output_type": "execute_result",
          "data": {
            "text/plain": [
              "Index(['province', 'country', 'Lat', 'Long', '1/22/20', '1/23/20', '1/24/20',\n",
              "       '1/25/20', '1/26/20', '1/27/20',\n",
              "       ...\n",
              "       '4/23/21', '4/24/21', '4/25/21', '4/26/21', '4/27/21', '4/28/21',\n",
              "       '4/29/21', '4/30/21', '5/1/21', '5/2/21'],\n",
              "      dtype='object', length=471)"
            ]
          },
          "metadata": {
            "tags": []
          },
          "execution_count": 30
        }
      ]
    },
    {
      "cell_type": "markdown",
      "metadata": {
        "id": "bIMzVm_0WBZH"
      },
      "source": [
        "- Reajustar dados"
      ]
    },
    {
      "cell_type": "code",
      "metadata": {
        "id": "WknmgipES9V0"
      },
      "source": [
        "dados_paises_covid = dados_paises_covid.melt(id_vars=['province', 'country', 'Lat', 'Long'], \n",
        "                                             var_name = 'date', \n",
        "                                             value_name = 'infected')"
      ],
      "execution_count": 31,
      "outputs": []
    },
    {
      "cell_type": "code",
      "metadata": {
        "id": "Hc-sV4zWS9aH"
      },
      "source": [
        "dados_paises_covid_dead = dados_paises_covid_dead.melt(id_vars=['province', 'country', 'Lat', 'Long'], \n",
        "                                                       var_name = 'date', \n",
        "                                                       value_name = 'dead')"
      ],
      "execution_count": 32,
      "outputs": []
    },
    {
      "cell_type": "code",
      "metadata": {
        "colab": {
          "base_uri": "https://localhost:8080/",
          "height": 198
        },
        "id": "QX2EUqp0S9eT",
        "outputId": "1a5833b5-01bb-4ee8-cc8b-686a77853738"
      },
      "source": [
        "dados_paises_covid_dead.tail()"
      ],
      "execution_count": 33,
      "outputs": [
        {
          "output_type": "execute_result",
          "data": {
            "text/html": [
              "<div>\n",
              "<style scoped>\n",
              "    .dataframe tbody tr th:only-of-type {\n",
              "        vertical-align: middle;\n",
              "    }\n",
              "\n",
              "    .dataframe tbody tr th {\n",
              "        vertical-align: top;\n",
              "    }\n",
              "\n",
              "    .dataframe thead th {\n",
              "        text-align: right;\n",
              "    }\n",
              "</style>\n",
              "<table border=\"1\" class=\"dataframe\">\n",
              "  <thead>\n",
              "    <tr style=\"text-align: right;\">\n",
              "      <th></th>\n",
              "      <th>province</th>\n",
              "      <th>country</th>\n",
              "      <th>Lat</th>\n",
              "      <th>Long</th>\n",
              "      <th>date</th>\n",
              "      <th>dead</th>\n",
              "    </tr>\n",
              "  </thead>\n",
              "  <tbody>\n",
              "    <tr>\n",
              "      <th>128420</th>\n",
              "      <td>NaN</td>\n",
              "      <td>Vietnam</td>\n",
              "      <td>14.058324</td>\n",
              "      <td>108.277199</td>\n",
              "      <td>5/2/21</td>\n",
              "      <td>35</td>\n",
              "    </tr>\n",
              "    <tr>\n",
              "      <th>128421</th>\n",
              "      <td>NaN</td>\n",
              "      <td>West Bank and Gaza</td>\n",
              "      <td>31.952200</td>\n",
              "      <td>35.233200</td>\n",
              "      <td>5/2/21</td>\n",
              "      <td>3272</td>\n",
              "    </tr>\n",
              "    <tr>\n",
              "      <th>128422</th>\n",
              "      <td>NaN</td>\n",
              "      <td>Yemen</td>\n",
              "      <td>15.552727</td>\n",
              "      <td>48.516388</td>\n",
              "      <td>5/2/21</td>\n",
              "      <td>1233</td>\n",
              "    </tr>\n",
              "    <tr>\n",
              "      <th>128423</th>\n",
              "      <td>NaN</td>\n",
              "      <td>Zambia</td>\n",
              "      <td>-13.133897</td>\n",
              "      <td>27.849332</td>\n",
              "      <td>5/2/21</td>\n",
              "      <td>1253</td>\n",
              "    </tr>\n",
              "    <tr>\n",
              "      <th>128424</th>\n",
              "      <td>NaN</td>\n",
              "      <td>Zimbabwe</td>\n",
              "      <td>-19.015438</td>\n",
              "      <td>29.154857</td>\n",
              "      <td>5/2/21</td>\n",
              "      <td>1570</td>\n",
              "    </tr>\n",
              "  </tbody>\n",
              "</table>\n",
              "</div>"
            ],
            "text/plain": [
              "       province             country        Lat        Long    date  dead\n",
              "128420      NaN             Vietnam  14.058324  108.277199  5/2/21    35\n",
              "128421      NaN  West Bank and Gaza  31.952200   35.233200  5/2/21  3272\n",
              "128422      NaN               Yemen  15.552727   48.516388  5/2/21  1233\n",
              "128423      NaN              Zambia -13.133897   27.849332  5/2/21  1253\n",
              "128424      NaN            Zimbabwe -19.015438   29.154857  5/2/21  1570"
            ]
          },
          "metadata": {
            "tags": []
          },
          "execution_count": 33
        }
      ]
    },
    {
      "cell_type": "code",
      "metadata": {
        "colab": {
          "base_uri": "https://localhost:8080/"
        },
        "id": "QmpQK2_mWJi3",
        "outputId": "009ac2b6-50e7-4071-c4b5-2ec9bafcc7f9"
      },
      "source": [
        "dados_paises_covid_dead.dtypes"
      ],
      "execution_count": 34,
      "outputs": [
        {
          "output_type": "execute_result",
          "data": {
            "text/plain": [
              "province     object\n",
              "country      object\n",
              "Lat         float64\n",
              "Long        float64\n",
              "date         object\n",
              "dead          int64\n",
              "dtype: object"
            ]
          },
          "metadata": {
            "tags": []
          },
          "execution_count": 34
        }
      ]
    },
    {
      "cell_type": "markdown",
      "metadata": {
        "id": "AFvH-XFGS9ip"
      },
      "source": [
        "- Ajustar datas"
      ]
    },
    {
      "cell_type": "code",
      "metadata": {
        "id": "2qHen0szS9nZ"
      },
      "source": [
        "dados_paises_covid['date'] = pd.to_datetime(dados_paises_covid['date'], \n",
        "                                            infer_datetime_format='True')"
      ],
      "execution_count": 35,
      "outputs": []
    },
    {
      "cell_type": "code",
      "metadata": {
        "id": "5hVb7IVeXIDn"
      },
      "source": [
        "dados_paises_covid_dead['date'] = pd.to_datetime(dados_paises_covid_dead['date'], \n",
        "                                                 infer_datetime_format='True')"
      ],
      "execution_count": 36,
      "outputs": []
    },
    {
      "cell_type": "code",
      "metadata": {
        "colab": {
          "base_uri": "https://localhost:8080/",
          "height": 198
        },
        "id": "f78IaxkGXmbg",
        "outputId": "d6e1c0c3-6818-421f-d56f-b9a5855b28fb"
      },
      "source": [
        "dados_paises_covid.tail()"
      ],
      "execution_count": 37,
      "outputs": [
        {
          "output_type": "execute_result",
          "data": {
            "text/html": [
              "<div>\n",
              "<style scoped>\n",
              "    .dataframe tbody tr th:only-of-type {\n",
              "        vertical-align: middle;\n",
              "    }\n",
              "\n",
              "    .dataframe tbody tr th {\n",
              "        vertical-align: top;\n",
              "    }\n",
              "\n",
              "    .dataframe thead th {\n",
              "        text-align: right;\n",
              "    }\n",
              "</style>\n",
              "<table border=\"1\" class=\"dataframe\">\n",
              "  <thead>\n",
              "    <tr style=\"text-align: right;\">\n",
              "      <th></th>\n",
              "      <th>province</th>\n",
              "      <th>country</th>\n",
              "      <th>Lat</th>\n",
              "      <th>Long</th>\n",
              "      <th>date</th>\n",
              "      <th>infected</th>\n",
              "    </tr>\n",
              "  </thead>\n",
              "  <tbody>\n",
              "    <tr>\n",
              "      <th>128420</th>\n",
              "      <td>NaN</td>\n",
              "      <td>Vietnam</td>\n",
              "      <td>14.058324</td>\n",
              "      <td>108.277199</td>\n",
              "      <td>2021-05-02</td>\n",
              "      <td>2962</td>\n",
              "    </tr>\n",
              "    <tr>\n",
              "      <th>128421</th>\n",
              "      <td>NaN</td>\n",
              "      <td>West Bank and Gaza</td>\n",
              "      <td>31.952200</td>\n",
              "      <td>35.233200</td>\n",
              "      <td>2021-05-02</td>\n",
              "      <td>297638</td>\n",
              "    </tr>\n",
              "    <tr>\n",
              "      <th>128422</th>\n",
              "      <td>NaN</td>\n",
              "      <td>Yemen</td>\n",
              "      <td>15.552727</td>\n",
              "      <td>48.516388</td>\n",
              "      <td>2021-05-02</td>\n",
              "      <td>6341</td>\n",
              "    </tr>\n",
              "    <tr>\n",
              "      <th>128423</th>\n",
              "      <td>NaN</td>\n",
              "      <td>Zambia</td>\n",
              "      <td>-13.133897</td>\n",
              "      <td>27.849332</td>\n",
              "      <td>2021-05-02</td>\n",
              "      <td>91693</td>\n",
              "    </tr>\n",
              "    <tr>\n",
              "      <th>128424</th>\n",
              "      <td>NaN</td>\n",
              "      <td>Zimbabwe</td>\n",
              "      <td>-19.015438</td>\n",
              "      <td>29.154857</td>\n",
              "      <td>2021-05-02</td>\n",
              "      <td>38281</td>\n",
              "    </tr>\n",
              "  </tbody>\n",
              "</table>\n",
              "</div>"
            ],
            "text/plain": [
              "       province             country        Lat        Long       date  infected\n",
              "128420      NaN             Vietnam  14.058324  108.277199 2021-05-02      2962\n",
              "128421      NaN  West Bank and Gaza  31.952200   35.233200 2021-05-02    297638\n",
              "128422      NaN               Yemen  15.552727   48.516388 2021-05-02      6341\n",
              "128423      NaN              Zambia -13.133897   27.849332 2021-05-02     91693\n",
              "128424      NaN            Zimbabwe -19.015438   29.154857 2021-05-02     38281"
            ]
          },
          "metadata": {
            "tags": []
          },
          "execution_count": 37
        }
      ]
    },
    {
      "cell_type": "code",
      "metadata": {
        "colab": {
          "base_uri": "https://localhost:8080/",
          "height": 198
        },
        "id": "uvAjTBCJS9sA",
        "outputId": "46e4013e-6596-4571-efbd-57a5a971f6e4"
      },
      "source": [
        "dados_paises_covid_dead.tail()"
      ],
      "execution_count": 38,
      "outputs": [
        {
          "output_type": "execute_result",
          "data": {
            "text/html": [
              "<div>\n",
              "<style scoped>\n",
              "    .dataframe tbody tr th:only-of-type {\n",
              "        vertical-align: middle;\n",
              "    }\n",
              "\n",
              "    .dataframe tbody tr th {\n",
              "        vertical-align: top;\n",
              "    }\n",
              "\n",
              "    .dataframe thead th {\n",
              "        text-align: right;\n",
              "    }\n",
              "</style>\n",
              "<table border=\"1\" class=\"dataframe\">\n",
              "  <thead>\n",
              "    <tr style=\"text-align: right;\">\n",
              "      <th></th>\n",
              "      <th>province</th>\n",
              "      <th>country</th>\n",
              "      <th>Lat</th>\n",
              "      <th>Long</th>\n",
              "      <th>date</th>\n",
              "      <th>dead</th>\n",
              "    </tr>\n",
              "  </thead>\n",
              "  <tbody>\n",
              "    <tr>\n",
              "      <th>128420</th>\n",
              "      <td>NaN</td>\n",
              "      <td>Vietnam</td>\n",
              "      <td>14.058324</td>\n",
              "      <td>108.277199</td>\n",
              "      <td>2021-05-02</td>\n",
              "      <td>35</td>\n",
              "    </tr>\n",
              "    <tr>\n",
              "      <th>128421</th>\n",
              "      <td>NaN</td>\n",
              "      <td>West Bank and Gaza</td>\n",
              "      <td>31.952200</td>\n",
              "      <td>35.233200</td>\n",
              "      <td>2021-05-02</td>\n",
              "      <td>3272</td>\n",
              "    </tr>\n",
              "    <tr>\n",
              "      <th>128422</th>\n",
              "      <td>NaN</td>\n",
              "      <td>Yemen</td>\n",
              "      <td>15.552727</td>\n",
              "      <td>48.516388</td>\n",
              "      <td>2021-05-02</td>\n",
              "      <td>1233</td>\n",
              "    </tr>\n",
              "    <tr>\n",
              "      <th>128423</th>\n",
              "      <td>NaN</td>\n",
              "      <td>Zambia</td>\n",
              "      <td>-13.133897</td>\n",
              "      <td>27.849332</td>\n",
              "      <td>2021-05-02</td>\n",
              "      <td>1253</td>\n",
              "    </tr>\n",
              "    <tr>\n",
              "      <th>128424</th>\n",
              "      <td>NaN</td>\n",
              "      <td>Zimbabwe</td>\n",
              "      <td>-19.015438</td>\n",
              "      <td>29.154857</td>\n",
              "      <td>2021-05-02</td>\n",
              "      <td>1570</td>\n",
              "    </tr>\n",
              "  </tbody>\n",
              "</table>\n",
              "</div>"
            ],
            "text/plain": [
              "       province             country        Lat        Long       date  dead\n",
              "128420      NaN             Vietnam  14.058324  108.277199 2021-05-02    35\n",
              "128421      NaN  West Bank and Gaza  31.952200   35.233200 2021-05-02  3272\n",
              "128422      NaN               Yemen  15.552727   48.516388 2021-05-02  1233\n",
              "128423      NaN              Zambia -13.133897   27.849332 2021-05-02  1253\n",
              "128424      NaN            Zimbabwe -19.015438   29.154857 2021-05-02  1570"
            ]
          },
          "metadata": {
            "tags": []
          },
          "execution_count": 38
        }
      ]
    },
    {
      "cell_type": "code",
      "metadata": {
        "colab": {
          "base_uri": "https://localhost:8080/"
        },
        "id": "F-7i7eqQehUo",
        "outputId": "75f26bf2-11ac-41ae-9cba-c7e3b770b719"
      },
      "source": [
        "dados_paises_covid_dead.dtypes"
      ],
      "execution_count": 39,
      "outputs": [
        {
          "output_type": "execute_result",
          "data": {
            "text/plain": [
              "province            object\n",
              "country             object\n",
              "Lat                float64\n",
              "Long               float64\n",
              "date        datetime64[ns]\n",
              "dead                 int64\n",
              "dtype: object"
            ]
          },
          "metadata": {
            "tags": []
          },
          "execution_count": 39
        }
      ]
    },
    {
      "cell_type": "markdown",
      "metadata": {
        "id": "D16RNZgTS9wJ"
      },
      "source": [
        "- Combinar os datasets"
      ]
    },
    {
      "cell_type": "code",
      "metadata": {
        "colab": {
          "base_uri": "https://localhost:8080/"
        },
        "id": "f4zOkqqRXRd3",
        "outputId": "fc1d5390-8355-4009-eb27-dd1695581cf4"
      },
      "source": [
        "dados_paises_covid.shape"
      ],
      "execution_count": 40,
      "outputs": [
        {
          "output_type": "execute_result",
          "data": {
            "text/plain": [
              "(128425, 6)"
            ]
          },
          "metadata": {
            "tags": []
          },
          "execution_count": 40
        }
      ]
    },
    {
      "cell_type": "code",
      "metadata": {
        "colab": {
          "base_uri": "https://localhost:8080/"
        },
        "id": "X8OoawEVXRi7",
        "outputId": "18e60dfb-ab4b-4b2a-edb8-bf62aed01934"
      },
      "source": [
        "dados_paises_covid_dead.shape"
      ],
      "execution_count": 41,
      "outputs": [
        {
          "output_type": "execute_result",
          "data": {
            "text/plain": [
              "(128425, 6)"
            ]
          },
          "metadata": {
            "tags": []
          },
          "execution_count": 41
        }
      ]
    },
    {
      "cell_type": "code",
      "metadata": {
        "id": "vMV2x0qJXRnA"
      },
      "source": [
        "dados_covid = pd.merge(dados_paises_covid, dados_paises_covid_dead, \n",
        "                       on = ['province', 'country',\t'Lat',\t'Long',\t'date'], \n",
        "                       how = 'inner')"
      ],
      "execution_count": 42,
      "outputs": []
    },
    {
      "cell_type": "code",
      "metadata": {
        "colab": {
          "base_uri": "https://localhost:8080/",
          "height": 198
        },
        "id": "q3De0qHYXRrY",
        "outputId": "247ded3a-f050-41c5-f4ca-0ead20cc76f7"
      },
      "source": [
        "dados_covid.tail()"
      ],
      "execution_count": 43,
      "outputs": [
        {
          "output_type": "execute_result",
          "data": {
            "text/html": [
              "<div>\n",
              "<style scoped>\n",
              "    .dataframe tbody tr th:only-of-type {\n",
              "        vertical-align: middle;\n",
              "    }\n",
              "\n",
              "    .dataframe tbody tr th {\n",
              "        vertical-align: top;\n",
              "    }\n",
              "\n",
              "    .dataframe thead th {\n",
              "        text-align: right;\n",
              "    }\n",
              "</style>\n",
              "<table border=\"1\" class=\"dataframe\">\n",
              "  <thead>\n",
              "    <tr style=\"text-align: right;\">\n",
              "      <th></th>\n",
              "      <th>province</th>\n",
              "      <th>country</th>\n",
              "      <th>Lat</th>\n",
              "      <th>Long</th>\n",
              "      <th>date</th>\n",
              "      <th>infected</th>\n",
              "      <th>dead</th>\n",
              "    </tr>\n",
              "  </thead>\n",
              "  <tbody>\n",
              "    <tr>\n",
              "      <th>128420</th>\n",
              "      <td>NaN</td>\n",
              "      <td>Vietnam</td>\n",
              "      <td>14.058324</td>\n",
              "      <td>108.277199</td>\n",
              "      <td>2021-05-02</td>\n",
              "      <td>2962</td>\n",
              "      <td>35</td>\n",
              "    </tr>\n",
              "    <tr>\n",
              "      <th>128421</th>\n",
              "      <td>NaN</td>\n",
              "      <td>West Bank and Gaza</td>\n",
              "      <td>31.952200</td>\n",
              "      <td>35.233200</td>\n",
              "      <td>2021-05-02</td>\n",
              "      <td>297638</td>\n",
              "      <td>3272</td>\n",
              "    </tr>\n",
              "    <tr>\n",
              "      <th>128422</th>\n",
              "      <td>NaN</td>\n",
              "      <td>Yemen</td>\n",
              "      <td>15.552727</td>\n",
              "      <td>48.516388</td>\n",
              "      <td>2021-05-02</td>\n",
              "      <td>6341</td>\n",
              "      <td>1233</td>\n",
              "    </tr>\n",
              "    <tr>\n",
              "      <th>128423</th>\n",
              "      <td>NaN</td>\n",
              "      <td>Zambia</td>\n",
              "      <td>-13.133897</td>\n",
              "      <td>27.849332</td>\n",
              "      <td>2021-05-02</td>\n",
              "      <td>91693</td>\n",
              "      <td>1253</td>\n",
              "    </tr>\n",
              "    <tr>\n",
              "      <th>128424</th>\n",
              "      <td>NaN</td>\n",
              "      <td>Zimbabwe</td>\n",
              "      <td>-19.015438</td>\n",
              "      <td>29.154857</td>\n",
              "      <td>2021-05-02</td>\n",
              "      <td>38281</td>\n",
              "      <td>1570</td>\n",
              "    </tr>\n",
              "  </tbody>\n",
              "</table>\n",
              "</div>"
            ],
            "text/plain": [
              "       province             country        Lat  ...       date infected  dead\n",
              "128420      NaN             Vietnam  14.058324  ... 2021-05-02     2962    35\n",
              "128421      NaN  West Bank and Gaza  31.952200  ... 2021-05-02   297638  3272\n",
              "128422      NaN               Yemen  15.552727  ... 2021-05-02     6341  1233\n",
              "128423      NaN              Zambia -13.133897  ... 2021-05-02    91693  1253\n",
              "128424      NaN            Zimbabwe -19.015438  ... 2021-05-02    38281  1570\n",
              "\n",
              "[5 rows x 7 columns]"
            ]
          },
          "metadata": {
            "tags": []
          },
          "execution_count": 43
        }
      ]
    },
    {
      "cell_type": "code",
      "metadata": {
        "colab": {
          "base_uri": "https://localhost:8080/"
        },
        "id": "ixhzuKJPIDzV",
        "outputId": "a0c0373c-9695-4214-d787-b51f4b4960b1"
      },
      "source": [
        "dados_covid.shape"
      ],
      "execution_count": 44,
      "outputs": [
        {
          "output_type": "execute_result",
          "data": {
            "text/plain": [
              "(128425, 7)"
            ]
          },
          "metadata": {
            "tags": []
          },
          "execution_count": 44
        }
      ]
    },
    {
      "cell_type": "markdown",
      "metadata": {
        "id": "FYba1y-bXRvH"
      },
      "source": [
        "## Aqui começa o trabalho"
      ]
    },
    {
      "cell_type": "markdown",
      "metadata": {
        "id": "eIMJfzTYv7Eu"
      },
      "source": [
        "## *Exemplo probabilidades (memórias de cálculo)"
      ]
    },
    {
      "cell_type": "markdown",
      "metadata": {
        "id": "yIFT4xrxHQNL"
      },
      "source": [
        "- Prob(infectados covid)"
      ]
    },
    {
      "cell_type": "markdown",
      "metadata": {
        "id": "UBV4ERSaHTlt"
      },
      "source": [
        "total infectados = soma do total de infectados dos 4 países"
      ]
    },
    {
      "cell_type": "markdown",
      "metadata": {
        "id": "SHANPKTqHTpz"
      },
      "source": [
        "total_populacao = soma do total de população dos 4 países"
      ]
    },
    {
      "cell_type": "markdown",
      "metadata": {
        "id": "7aAHolsKv7LM"
      },
      "source": [
        "P(infectados) = total infectados / total_populacao"
      ]
    },
    {
      "cell_type": "markdown",
      "metadata": {
        "id": "mqZPds-jFGo7"
      },
      "source": [
        "- P(infectado covid e ser Brasileiro)"
      ]
    },
    {
      "cell_type": "markdown",
      "metadata": {
        "id": "5HowoJaFFGtD"
      },
      "source": [
        ""
      ]
    },
    {
      "cell_type": "markdown",
      "metadata": {
        "id": "vZq64ny1QCA8"
      },
      "source": [
        "P(infectado covid e ser Brasileiro) = infectado_e_brasil / total_populacao"
      ]
    },
    {
      "cell_type": "markdown",
      "metadata": {
        "id": "KF8KXcEuwr_R"
      },
      "source": [
        ""
      ]
    },
    {
      "cell_type": "markdown",
      "metadata": {
        "id": "23XNl8CIQCFQ"
      },
      "source": [
        "- P(Infectado covid | ser Brasileiro)"
      ]
    },
    {
      "cell_type": "markdown",
      "metadata": {
        "id": "toVzRtQXQCJK"
      },
      "source": [
        "total_brasil_populacao = populacao do Brasil"
      ]
    },
    {
      "cell_type": "markdown",
      "metadata": {
        "id": "9ZoEyZC-QCM4"
      },
      "source": [
        "P(Infectado covid | ser Brasileiro) = (infectado_e_brasil / total_populacao) / (total_brasil_populacao / total_populacao)"
      ]
    },
    {
      "cell_type": "markdown",
      "metadata": {
        "id": "xuVnhnEfVf6f"
      },
      "source": [
        "ou"
      ]
    },
    {
      "cell_type": "markdown",
      "metadata": {
        "id": "3pGCJu9XQCQp"
      },
      "source": [
        "P(Infectado covid | ser Brasileiro) = infectado_e_brasil / total_brasil_populacao"
      ]
    },
    {
      "cell_type": "markdown",
      "metadata": {
        "id": "PZrimmsyA6eo"
      },
      "source": [
        "# Tabela 2020 usada para comparaçao de dados nos exercicios 3- D, G, J e 4- D, G, J"
      ]
    },
    {
      "cell_type": "code",
      "metadata": {
        "colab": {
          "base_uri": "https://localhost:8080/",
          "height": 168
        },
        "id": "WuvyZPSHAsQs",
        "outputId": "b4ba662f-d26d-440b-94d8-4e51ef45ae47"
      },
      "source": [
        "dic = {'Brazil': 210000000, 'Canada': 37590000, 'Italy': 60360000, 'US': 328200000}\n",
        "data_final = dados_covid[dados_covid['date'] == '2020-04-27']\n",
        "total_dead = data_final.groupby('country').agg(total_mortes = pd.NamedAgg(column = 'dead', aggfunc = sum))\n",
        "total_dead = total_dead.reset_index()\n",
        "br_us_it = data_final[data_final['country'].isin(['Brazil','Canada','US','Italy'])]\n",
        "tabela = ['country','infected','dead']\n",
        "total = br_us_it.filter(items=tabela)\n",
        "total_dados_2020 = total.groupby('country').agg(infected = pd.NamedAgg('infected', 'sum'), dead = pd.NamedAgg('dead', 'sum')).reset_index()\n",
        "total_dados_2020['populacao total'] = dic['Brazil'], dic['Canada'], dic['Italy'], dic['US']\n",
        "total_dados_2020"
      ],
      "execution_count": 45,
      "outputs": [
        {
          "output_type": "execute_result",
          "data": {
            "text/html": [
              "<div>\n",
              "<style scoped>\n",
              "    .dataframe tbody tr th:only-of-type {\n",
              "        vertical-align: middle;\n",
              "    }\n",
              "\n",
              "    .dataframe tbody tr th {\n",
              "        vertical-align: top;\n",
              "    }\n",
              "\n",
              "    .dataframe thead th {\n",
              "        text-align: right;\n",
              "    }\n",
              "</style>\n",
              "<table border=\"1\" class=\"dataframe\">\n",
              "  <thead>\n",
              "    <tr style=\"text-align: right;\">\n",
              "      <th></th>\n",
              "      <th>country</th>\n",
              "      <th>infected</th>\n",
              "      <th>dead</th>\n",
              "      <th>populacao total</th>\n",
              "    </tr>\n",
              "  </thead>\n",
              "  <tbody>\n",
              "    <tr>\n",
              "      <th>0</th>\n",
              "      <td>Brazil</td>\n",
              "      <td>67446</td>\n",
              "      <td>4603</td>\n",
              "      <td>210000000</td>\n",
              "    </tr>\n",
              "    <tr>\n",
              "      <th>1</th>\n",
              "      <td>Canada</td>\n",
              "      <td>49616</td>\n",
              "      <td>3559</td>\n",
              "      <td>37590000</td>\n",
              "    </tr>\n",
              "    <tr>\n",
              "      <th>2</th>\n",
              "      <td>Italy</td>\n",
              "      <td>199414</td>\n",
              "      <td>26977</td>\n",
              "      <td>60360000</td>\n",
              "    </tr>\n",
              "    <tr>\n",
              "      <th>3</th>\n",
              "      <td>US</td>\n",
              "      <td>1000785</td>\n",
              "      <td>59394</td>\n",
              "      <td>328200000</td>\n",
              "    </tr>\n",
              "  </tbody>\n",
              "</table>\n",
              "</div>"
            ],
            "text/plain": [
              "  country  infected   dead  populacao total\n",
              "0  Brazil     67446   4603        210000000\n",
              "1  Canada     49616   3559         37590000\n",
              "2   Italy    199414  26977         60360000\n",
              "3      US   1000785  59394        328200000"
            ]
          },
          "metadata": {
            "tags": []
          },
          "execution_count": 45
        }
      ]
    },
    {
      "cell_type": "markdown",
      "metadata": {
        "id": "Xf4MjGJDQCUI"
      },
      "source": [
        "# Exercicio 1"
      ]
    },
    {
      "cell_type": "code",
      "metadata": {
        "id": "K-0bsN_pv7RF",
        "colab": {
          "base_uri": "https://localhost:8080/",
          "height": 168
        },
        "outputId": "ea808ea2-ad0e-4a2e-f9d4-a012bb73d766"
      },
      "source": [
        "ultimo_dia = np.max(dados_covid['date'])\n",
        "data_final = dados_covid[dados_covid['date'] == ultimo_dia]\n",
        "br_us_it_ca = data_final[data_final['country'].isin(['Brazil','US','Italy', 'Canada'])]\n",
        "tabela = ['country','infected','dead']\n",
        "total = br_us_it_ca.filter(items=tabela)\n",
        "\n",
        "total_dados = total.groupby('country').agg(infected = pd.NamedAgg('infected', 'sum'), dead = pd.NamedAgg('dead', 'sum')).reset_index()\n",
        "total_dados\n"
      ],
      "execution_count": 46,
      "outputs": [
        {
          "output_type": "execute_result",
          "data": {
            "text/html": [
              "<div>\n",
              "<style scoped>\n",
              "    .dataframe tbody tr th:only-of-type {\n",
              "        vertical-align: middle;\n",
              "    }\n",
              "\n",
              "    .dataframe tbody tr th {\n",
              "        vertical-align: top;\n",
              "    }\n",
              "\n",
              "    .dataframe thead th {\n",
              "        text-align: right;\n",
              "    }\n",
              "</style>\n",
              "<table border=\"1\" class=\"dataframe\">\n",
              "  <thead>\n",
              "    <tr style=\"text-align: right;\">\n",
              "      <th></th>\n",
              "      <th>country</th>\n",
              "      <th>infected</th>\n",
              "      <th>dead</th>\n",
              "    </tr>\n",
              "  </thead>\n",
              "  <tbody>\n",
              "    <tr>\n",
              "      <th>0</th>\n",
              "      <td>Brazil</td>\n",
              "      <td>14754910</td>\n",
              "      <td>407639</td>\n",
              "    </tr>\n",
              "    <tr>\n",
              "      <th>1</th>\n",
              "      <td>Canada</td>\n",
              "      <td>1240878</td>\n",
              "      <td>24269</td>\n",
              "    </tr>\n",
              "    <tr>\n",
              "      <th>2</th>\n",
              "      <td>Italy</td>\n",
              "      <td>4044762</td>\n",
              "      <td>121177</td>\n",
              "    </tr>\n",
              "    <tr>\n",
              "      <th>3</th>\n",
              "      <td>US</td>\n",
              "      <td>32421641</td>\n",
              "      <td>577045</td>\n",
              "    </tr>\n",
              "  </tbody>\n",
              "</table>\n",
              "</div>"
            ],
            "text/plain": [
              "  country  infected    dead\n",
              "0  Brazil  14754910  407639\n",
              "1  Canada   1240878   24269\n",
              "2   Italy   4044762  121177\n",
              "3      US  32421641  577045"
            ]
          },
          "metadata": {
            "tags": []
          },
          "execution_count": 46
        }
      ]
    },
    {
      "cell_type": "markdown",
      "metadata": {
        "id": "XLKq6QkMv7Wi"
      },
      "source": [
        "# Exercicio 2 \n"
      ]
    },
    {
      "cell_type": "code",
      "metadata": {
        "colab": {
          "base_uri": "https://localhost:8080/",
          "height": 168
        },
        "id": "c1jrBA3leluI",
        "outputId": "3fb17e7b-03ab-43a2-cfe2-ac226cd74bca"
      },
      "source": [
        "dic = {'Brazil': 210000000, 'Canada': 37590000, 'Italy': 60360000, 'US': 328200000}\n",
        "total_dados['total population'] = dic['Brazil'], dic['Canada'], dic['Italy'], dic['US']\n",
        "total_dados\n"
      ],
      "execution_count": 47,
      "outputs": [
        {
          "output_type": "execute_result",
          "data": {
            "text/html": [
              "<div>\n",
              "<style scoped>\n",
              "    .dataframe tbody tr th:only-of-type {\n",
              "        vertical-align: middle;\n",
              "    }\n",
              "\n",
              "    .dataframe tbody tr th {\n",
              "        vertical-align: top;\n",
              "    }\n",
              "\n",
              "    .dataframe thead th {\n",
              "        text-align: right;\n",
              "    }\n",
              "</style>\n",
              "<table border=\"1\" class=\"dataframe\">\n",
              "  <thead>\n",
              "    <tr style=\"text-align: right;\">\n",
              "      <th></th>\n",
              "      <th>country</th>\n",
              "      <th>infected</th>\n",
              "      <th>dead</th>\n",
              "      <th>total population</th>\n",
              "    </tr>\n",
              "  </thead>\n",
              "  <tbody>\n",
              "    <tr>\n",
              "      <th>0</th>\n",
              "      <td>Brazil</td>\n",
              "      <td>14754910</td>\n",
              "      <td>407639</td>\n",
              "      <td>210000000</td>\n",
              "    </tr>\n",
              "    <tr>\n",
              "      <th>1</th>\n",
              "      <td>Canada</td>\n",
              "      <td>1240878</td>\n",
              "      <td>24269</td>\n",
              "      <td>37590000</td>\n",
              "    </tr>\n",
              "    <tr>\n",
              "      <th>2</th>\n",
              "      <td>Italy</td>\n",
              "      <td>4044762</td>\n",
              "      <td>121177</td>\n",
              "      <td>60360000</td>\n",
              "    </tr>\n",
              "    <tr>\n",
              "      <th>3</th>\n",
              "      <td>US</td>\n",
              "      <td>32421641</td>\n",
              "      <td>577045</td>\n",
              "      <td>328200000</td>\n",
              "    </tr>\n",
              "  </tbody>\n",
              "</table>\n",
              "</div>"
            ],
            "text/plain": [
              "  country  infected    dead  total population\n",
              "0  Brazil  14754910  407639         210000000\n",
              "1  Canada   1240878   24269          37590000\n",
              "2   Italy   4044762  121177          60360000\n",
              "3      US  32421641  577045         328200000"
            ]
          },
          "metadata": {
            "tags": []
          },
          "execution_count": 47
        }
      ]
    },
    {
      "cell_type": "markdown",
      "metadata": {
        "id": "8tL1k9Wuel67"
      },
      "source": [
        "# Exercicio 3"
      ]
    },
    {
      "cell_type": "code",
      "metadata": {
        "colab": {
          "base_uri": "https://localhost:8080/"
        },
        "id": "ls9o0Hz6emBv",
        "outputId": "2abce036-79a2-4a52-eecd-87eef020ce89"
      },
      "source": [
        "# a-)\n",
        "total_populacao = sum(total_dados['total population'])\n",
        "total_infectados = sum(total_dados['infected'])\n",
        "p_infectados = total_infectados/total_populacao\n",
        "print(f'A probabilidade de ser infectado pelo covid é de {p_infectados*100:.2f}%')\n"
      ],
      "execution_count": 48,
      "outputs": [
        {
          "output_type": "stream",
          "text": [
            "A probabilidade de ser infectado pelo covid é de 8.25%\n"
          ],
          "name": "stdout"
        }
      ]
    },
    {
      "cell_type": "code",
      "metadata": {
        "colab": {
          "base_uri": "https://localhost:8080/"
        },
        "id": "4upOFkkPemIB",
        "outputId": "fb134b7b-3484-426a-c1c7-3109116141a0"
      },
      "source": [
        "# b-)\n",
        "infectado_e_brasil = total_dados['infected'][0]\n",
        "p_infectado_covid_e_brasil =  infectado_e_brasil / total_populacao\n",
        "print(f'A probabilidade de ser infectado pelo covid e ser brasileiro é de {p_infectado_covid_e_brasil*100:.2f}%')\n"
      ],
      "execution_count": 49,
      "outputs": [
        {
          "output_type": "stream",
          "text": [
            "A probabilidade de ser infectado pelo covid e ser brasileiro é de 2.32%\n"
          ],
          "name": "stdout"
        }
      ]
    },
    {
      "cell_type": "code",
      "metadata": {
        "colab": {
          "base_uri": "https://localhost:8080/"
        },
        "id": "oTv7Kq4PemNu",
        "outputId": "2df49aa8-0663-4197-8e8d-716dbea3f92e"
      },
      "source": [
        "# c-)\n",
        "total_brasil_populacao = total_dados['total population'][0]\n",
        "p_infectado_covid_ser_brasileiro = infectado_e_brasil / total_brasil_populacao\n",
        "print('A probabilidade de ser infectado pelo covid |', f'ser brasileiro é de {p_infectado_covid_ser_brasileiro *100:.2f}%')\n"
      ],
      "execution_count": 50,
      "outputs": [
        {
          "output_type": "stream",
          "text": [
            "A probabilidade de ser infectado pelo covid | ser brasileiro é de 7.03%\n"
          ],
          "name": "stdout"
        }
      ]
    },
    {
      "cell_type": "code",
      "metadata": {
        "colab": {
          "base_uri": "https://localhost:8080/",
          "height": 193
        },
        "id": "1DJZOSQHemSz",
        "outputId": "1ba4aac7-5c2f-43e3-ee63-749a38e51d6a"
      },
      "source": [
        "# d-) \n",
        "total_populacao_2020 = sum(total_dados_2020['populacao total'])\n",
        "total_infectados_2020 = sum(total_dados_2020['infected'])\n",
        "p_infectados_2020 = total_infectados_2020 / total_populacao_2020\n",
        "print(f'A probabilidade de ser infectado pelo covid em 2020 é de {p_infectados_2020*100:.2f}%')\n",
        "\n",
        "infectado_e_brasil_2020 = total_dados_2020['infected'][0]\n",
        "p_infectado_covid_e_brasil_2020 =  infectado_e_brasil_2020 / total_populacao_2020\n",
        "print(f'A probabilidade de ser infectado pelo covid e ser brasileiro em 2020 é de {p_infectado_covid_e_brasil_2020*100:.2f}%')\n",
        "\n",
        "total_brasil_populacao_2020 = total_dados_2020['populacao total'][0]\n",
        "p_infectado_covid_ser_brasileiro_2020 = infectado_e_brasil_2020 / total_brasil_populacao_2020\n",
        "print('A probabilidade de ser infectado pelo covid |', f'ser brasileiro em 2020 é de {p_infectado_covid_ser_brasileiro_2020*100:.2f}%')\n",
        "\n",
        "#Data_Frame\n",
        "\n",
        "coluna = '2020 2021'.split()\n",
        "linha = 'P(infectados) P(infectado_covid_e_ser_Brasileiro) P(Infectado_covid_|_ser_Brasileiro)'.split()\n",
        "comparacao_dados_brasil_2020 = (f'{p_infectados_2020*100:.2f}%'), (f'{p_infectado_covid_e_brasil_2020*100:.2f}%'), (f'{p_infectado_covid_ser_brasileiro_2020*100:.2f}%')\n",
        "comparacao_dados_brasil_2021 = (f'{p_infectados*100:.2f}%'), (f'{p_infectado_covid_e_brasil*100:.2f}%'), (f'{p_infectado_covid_ser_brasileiro*100:.2f}%')\n",
        "\n",
        "df_Brasil = pd.DataFrame(columns= coluna, index= linha)\n",
        "df_Brasil['2020'] = comparacao_dados_brasil_2020\n",
        "df_Brasil['2021'] = comparacao_dados_brasil_2021\n",
        "df_Brasil\n",
        "\n"
      ],
      "execution_count": 51,
      "outputs": [
        {
          "output_type": "stream",
          "text": [
            "A probabilidade de ser infectado pelo covid em 2020 é de 0.21%\n",
            "A probabilidade de ser infectado pelo covid e ser brasileiro em 2020 é de 0.01%\n",
            "A probabilidade de ser infectado pelo covid | ser brasileiro em 2020 é de 0.03%\n"
          ],
          "name": "stdout"
        },
        {
          "output_type": "execute_result",
          "data": {
            "text/html": [
              "<div>\n",
              "<style scoped>\n",
              "    .dataframe tbody tr th:only-of-type {\n",
              "        vertical-align: middle;\n",
              "    }\n",
              "\n",
              "    .dataframe tbody tr th {\n",
              "        vertical-align: top;\n",
              "    }\n",
              "\n",
              "    .dataframe thead th {\n",
              "        text-align: right;\n",
              "    }\n",
              "</style>\n",
              "<table border=\"1\" class=\"dataframe\">\n",
              "  <thead>\n",
              "    <tr style=\"text-align: right;\">\n",
              "      <th></th>\n",
              "      <th>2020</th>\n",
              "      <th>2021</th>\n",
              "    </tr>\n",
              "  </thead>\n",
              "  <tbody>\n",
              "    <tr>\n",
              "      <th>P(infectados)</th>\n",
              "      <td>0.21%</td>\n",
              "      <td>8.25%</td>\n",
              "    </tr>\n",
              "    <tr>\n",
              "      <th>P(infectado_covid_e_ser_Brasileiro)</th>\n",
              "      <td>0.01%</td>\n",
              "      <td>2.32%</td>\n",
              "    </tr>\n",
              "    <tr>\n",
              "      <th>P(Infectado_covid_|_ser_Brasileiro)</th>\n",
              "      <td>0.03%</td>\n",
              "      <td>7.03%</td>\n",
              "    </tr>\n",
              "  </tbody>\n",
              "</table>\n",
              "</div>"
            ],
            "text/plain": [
              "                                      2020   2021\n",
              "P(infectados)                        0.21%  8.25%\n",
              "P(infectado_covid_e_ser_Brasileiro)  0.01%  2.32%\n",
              "P(Infectado_covid_|_ser_Brasileiro)  0.03%  7.03%"
            ]
          },
          "metadata": {
            "tags": []
          },
          "execution_count": 51
        }
      ]
    },
    {
      "cell_type": "code",
      "metadata": {
        "colab": {
          "base_uri": "https://localhost:8080/"
        },
        "id": "HRQhS9GPemY7",
        "outputId": "664dadc3-41ee-4261-9aae-29ff738dd40d"
      },
      "source": [
        "# e-)\n",
        "infectado_e_US = total_dados['infected'][3]\n",
        "p_infectado_covid_e_US = infectado_e_US / total_populacao\n",
        "print(f'A probabilidade de ser infectado pelo covid e ser americano é de {p_infectado_covid_e_US*100:.2f}%')\n"
      ],
      "execution_count": 52,
      "outputs": [
        {
          "output_type": "stream",
          "text": [
            "A probabilidade de ser infectado pelo covid e ser americano é de 5.10%\n"
          ],
          "name": "stdout"
        }
      ]
    },
    {
      "cell_type": "code",
      "metadata": {
        "colab": {
          "base_uri": "https://localhost:8080/"
        },
        "id": "F7_6wJUTemeh",
        "outputId": "c922ddfa-9cc9-4cfe-e33b-6d3c00aac1b4"
      },
      "source": [
        "# f-)\n",
        "total_US_populacao = total_dados['total population'][3]\n",
        "p_infectado_covid_ser_americano = infectado_e_US / total_US_populacao\n",
        "print('A probabilidade de ser infectado pelo covid |', f'ser americano é de {p_infectado_covid_ser_americano*100:.2f}%')\n"
      ],
      "execution_count": 53,
      "outputs": [
        {
          "output_type": "stream",
          "text": [
            "A probabilidade de ser infectado pelo covid | ser americano é de 9.88%\n"
          ],
          "name": "stdout"
        }
      ]
    },
    {
      "cell_type": "code",
      "metadata": {
        "colab": {
          "base_uri": "https://localhost:8080/",
          "height": 145
        },
        "id": "bELhYbfAemjt",
        "outputId": "08f72710-8607-4122-a776-524e30c08d8a"
      },
      "source": [
        "# g-) \n",
        "infectado_e_US_2020 = total_dados_2020['infected'][3]\n",
        "p_infectado_covid_e_US_2020 = infectado_e_US_2020 / total_populacao_2020\n",
        "print(f'A probabilidade de ser infectado pelo covid e ser americano é de {p_infectado_covid_e_US_2020*100:.2f}%')\n",
        "\n",
        "total_US_populacao_2020 = total_dados_2020['populacao total'][3]\n",
        "p_infectado_covid_ser_americano_2020 = infectado_e_US_2020 / total_US_populacao_2020\n",
        "print('A probabilidade de ser infectado pelo covid |', f'ser americano é de {p_infectado_covid_ser_americano_2020*100:.2f}%')\n",
        "\n",
        "#Data_Frame\n",
        "\n",
        "coluna = '2020 2021'.split()\n",
        "linha = 'P(infectado_covid_e_ser_Americano) P(Infectado_covid_|_ser_Americano)'.split()\n",
        "comparacao_dados_US_2020 = (f'{p_infectado_covid_e_US_2020*100:.2f}%'), (f'{p_infectado_covid_ser_americano_2020*100:.2f}%')\n",
        "comparacao_dados_US_2021 = (f'{p_infectado_covid_e_US*100:.2f}%'), (f'{p_infectado_covid_ser_americano*100:.2f}%')\n",
        "\n",
        "df_US = pd.DataFrame(columns= coluna, index= linha)\n",
        "df_US['2020'] = comparacao_dados_US_2020\n",
        "df_US['2021'] = comparacao_dados_US_2021\n",
        "df_US\n"
      ],
      "execution_count": 54,
      "outputs": [
        {
          "output_type": "stream",
          "text": [
            "A probabilidade de ser infectado pelo covid e ser americano é de 0.16%\n",
            "A probabilidade de ser infectado pelo covid | ser americano é de 0.30%\n"
          ],
          "name": "stdout"
        },
        {
          "output_type": "execute_result",
          "data": {
            "text/html": [
              "<div>\n",
              "<style scoped>\n",
              "    .dataframe tbody tr th:only-of-type {\n",
              "        vertical-align: middle;\n",
              "    }\n",
              "\n",
              "    .dataframe tbody tr th {\n",
              "        vertical-align: top;\n",
              "    }\n",
              "\n",
              "    .dataframe thead th {\n",
              "        text-align: right;\n",
              "    }\n",
              "</style>\n",
              "<table border=\"1\" class=\"dataframe\">\n",
              "  <thead>\n",
              "    <tr style=\"text-align: right;\">\n",
              "      <th></th>\n",
              "      <th>2020</th>\n",
              "      <th>2021</th>\n",
              "    </tr>\n",
              "  </thead>\n",
              "  <tbody>\n",
              "    <tr>\n",
              "      <th>P(infectado_covid_e_ser_Americano)</th>\n",
              "      <td>0.16%</td>\n",
              "      <td>5.10%</td>\n",
              "    </tr>\n",
              "    <tr>\n",
              "      <th>P(Infectado_covid_|_ser_Americano)</th>\n",
              "      <td>0.30%</td>\n",
              "      <td>9.88%</td>\n",
              "    </tr>\n",
              "  </tbody>\n",
              "</table>\n",
              "</div>"
            ],
            "text/plain": [
              "                                     2020   2021\n",
              "P(infectado_covid_e_ser_Americano)  0.16%  5.10%\n",
              "P(Infectado_covid_|_ser_Americano)  0.30%  9.88%"
            ]
          },
          "metadata": {
            "tags": []
          },
          "execution_count": 54
        }
      ]
    },
    {
      "cell_type": "code",
      "metadata": {
        "colab": {
          "base_uri": "https://localhost:8080/"
        },
        "id": "9qaMSja56Qeq",
        "outputId": "02aaf4cc-b21d-4daa-c75f-df23094c6590"
      },
      "source": [
        "# h-)\n",
        "infectado_e_italy = total_dados['infected'][2]\n",
        "p_infectado_covid_e_italy = infectado_e_italy / total_populacao\n",
        "print(f'A probabilidade de ser infectado pelo covid e ser italiano é de {p_infectado_covid_e_italy*100:.2f}%')\n"
      ],
      "execution_count": 55,
      "outputs": [
        {
          "output_type": "stream",
          "text": [
            "A probabilidade de ser infectado pelo covid e ser italiano é de 0.64%\n"
          ],
          "name": "stdout"
        }
      ]
    },
    {
      "cell_type": "code",
      "metadata": {
        "colab": {
          "base_uri": "https://localhost:8080/"
        },
        "id": "NjalJTOW6Qnm",
        "outputId": "cb0bf77f-4d5d-4638-a8a4-884d438e15c3"
      },
      "source": [
        "# i-)\n",
        "total_italy_populacao = total_dados['total population'][2]\n",
        "p_infectado_covid_ser_italiano = infectado_e_italy / total_italy_populacao\n",
        "print('A probabilidade de ser infectado pelo covid |', f'ser italiano é de {p_infectado_covid_ser_italiano*100:.2f}%')\n"
      ],
      "execution_count": 56,
      "outputs": [
        {
          "output_type": "stream",
          "text": [
            "A probabilidade de ser infectado pelo covid | ser italiano é de 6.70%\n"
          ],
          "name": "stdout"
        }
      ]
    },
    {
      "cell_type": "code",
      "metadata": {
        "colab": {
          "base_uri": "https://localhost:8080/",
          "height": 145
        },
        "id": "twcQzWey6QuI",
        "outputId": "6183dcf5-6685-48e9-e6d5-7d118ab2e0e7"
      },
      "source": [
        "# j-) \n",
        "infectado_e_italy_2020 = total_dados_2020['infected'][2]\n",
        "p_infectado_covid_e_italy_2020 = infectado_e_italy_2020 / total_populacao_2020\n",
        "print(f'A probabilidade de ser infectado pelo covid e ser italiano é de {p_infectado_covid_e_italy_2020*100:.2f}%')\n",
        "\n",
        "total_italy_populacao_2020 = total_dados_2020['populacao total'][2]\n",
        "p_infectado_covid_ser_italiano_2020 = infectado_e_italy_2020 / total_italy_populacao_2020\n",
        "print('A probabilidade de ser infectado pelo covid |', f'ser italiano é de {p_infectado_covid_ser_italiano_2020*100:.2f}%')\n",
        "\n",
        "#Data_Frame\n",
        "\n",
        "coluna = '2020 2021'.split()\n",
        "linha = 'P(infectado_covid_e_ser_Italiano) P(Infectado_covid_|_ser_Italiano)'.split()\n",
        "comparacao_dados_Italy_2020 = (f'{p_infectado_covid_e_italy_2020*100:.2f}%'), (f'{p_infectado_covid_ser_italiano_2020*100:.2f}%')\n",
        "comparacao_dados_Italy_2021 = (f'{p_infectado_covid_e_italy*100:.2f}%'), (f'{p_infectado_covid_ser_italiano*100:.2f}%')\n",
        "\n",
        "df_Italy = pd.DataFrame(columns= coluna, index= linha)\n",
        "df_Italy['2020'] = comparacao_dados_Italy_2020\n",
        "df_Italy['2021'] = comparacao_dados_Italy_2021\n",
        "df_Italy\n"
      ],
      "execution_count": 57,
      "outputs": [
        {
          "output_type": "stream",
          "text": [
            "A probabilidade de ser infectado pelo covid e ser italiano é de 0.03%\n",
            "A probabilidade de ser infectado pelo covid | ser italiano é de 0.33%\n"
          ],
          "name": "stdout"
        },
        {
          "output_type": "execute_result",
          "data": {
            "text/html": [
              "<div>\n",
              "<style scoped>\n",
              "    .dataframe tbody tr th:only-of-type {\n",
              "        vertical-align: middle;\n",
              "    }\n",
              "\n",
              "    .dataframe tbody tr th {\n",
              "        vertical-align: top;\n",
              "    }\n",
              "\n",
              "    .dataframe thead th {\n",
              "        text-align: right;\n",
              "    }\n",
              "</style>\n",
              "<table border=\"1\" class=\"dataframe\">\n",
              "  <thead>\n",
              "    <tr style=\"text-align: right;\">\n",
              "      <th></th>\n",
              "      <th>2020</th>\n",
              "      <th>2021</th>\n",
              "    </tr>\n",
              "  </thead>\n",
              "  <tbody>\n",
              "    <tr>\n",
              "      <th>P(infectado_covid_e_ser_Italiano)</th>\n",
              "      <td>0.03%</td>\n",
              "      <td>0.64%</td>\n",
              "    </tr>\n",
              "    <tr>\n",
              "      <th>P(Infectado_covid_|_ser_Italiano)</th>\n",
              "      <td>0.33%</td>\n",
              "      <td>6.70%</td>\n",
              "    </tr>\n",
              "  </tbody>\n",
              "</table>\n",
              "</div>"
            ],
            "text/plain": [
              "                                    2020   2021\n",
              "P(infectado_covid_e_ser_Italiano)  0.03%  0.64%\n",
              "P(Infectado_covid_|_ser_Italiano)  0.33%  6.70%"
            ]
          },
          "metadata": {
            "tags": []
          },
          "execution_count": 57
        }
      ]
    },
    {
      "cell_type": "markdown",
      "metadata": {
        "id": "VaoxVXkg6Qzd"
      },
      "source": [
        "# Exercicio 4 "
      ]
    },
    {
      "cell_type": "code",
      "metadata": {
        "colab": {
          "base_uri": "https://localhost:8080/"
        },
        "id": "8x2FCpHZ6Q4m",
        "outputId": "ac8c41ff-7325-406f-df4a-73306632029c"
      },
      "source": [
        "# a-)\n",
        "total_populacao = sum(total_dados['total population'])\n",
        "total_mortes = sum(total_dados['dead'])\n",
        "p_morte = total_mortes/total_populacao\n",
        "print(f'A probabilidade de ser morto pelo covid é de {p_morte*100:.2f}%')"
      ],
      "execution_count": 60,
      "outputs": [
        {
          "output_type": "stream",
          "text": [
            "A probabilidade de ser morto pelo covid é de 0.18%\n"
          ],
          "name": "stdout"
        }
      ]
    },
    {
      "cell_type": "code",
      "metadata": {
        "id": "FliklpitTQ5A",
        "colab": {
          "base_uri": "https://localhost:8080/"
        },
        "outputId": "675366d0-8aad-4bb2-c42e-376dd39fc100"
      },
      "source": [
        "# b-)\n",
        "mortes_e_brasil = total_dados['dead'][0]\n",
        "p_morte_covid_e_brasil =  mortes_e_brasil / total_populacao\n",
        "print(f'A probabilidade de ser morto pelo covid e ser brasileiro é de {p_morte_covid_e_brasil*100:.2f}%')"
      ],
      "execution_count": 61,
      "outputs": [
        {
          "output_type": "stream",
          "text": [
            "A probabilidade de ser morto pelo covid e ser brasileiro é de 0.06%\n"
          ],
          "name": "stdout"
        }
      ]
    },
    {
      "cell_type": "code",
      "metadata": {
        "colab": {
          "base_uri": "https://localhost:8080/"
        },
        "id": "gvuXfyRW7lqC",
        "outputId": "30847cbe-ce42-4900-af36-69d4bd6020ea"
      },
      "source": [
        "# c-)\n",
        "total_brasil_populacao = total_dados['total population'][0]\n",
        "p_morte_covid_ser_brasileiro = mortes_e_brasil / total_brasil_populacao\n",
        "print('A probabilidade de ser morto pelo covid |', f'ser brasileiro é de {p_morte_covid_ser_brasileiro *100:.2f}%')"
      ],
      "execution_count": 62,
      "outputs": [
        {
          "output_type": "stream",
          "text": [
            "A probabilidade de ser morto pelo covid | ser brasileiro é de 0.19%\n"
          ],
          "name": "stdout"
        }
      ]
    },
    {
      "cell_type": "code",
      "metadata": {
        "colab": {
          "base_uri": "https://localhost:8080/",
          "height": 193
        },
        "id": "tzmWC7ia7l0b",
        "outputId": "3b58b242-836e-4479-d7c2-b8b03ab9c847"
      },
      "source": [
        "# d-) \n",
        "total_populacao_2020 = sum(total_dados_2020['populacao total'])\n",
        "total_mortes_2020 = sum(total_dados_2020['dead'])\n",
        "p_morte_2020 = total_mortes_2020/total_populacao_2020\n",
        "print(f'A probabilidade de ser morto pelo covid é de {p_morte_2020*100:.4f}%')\n",
        "\n",
        "mortes_e_brasil_2020 = total_dados_2020['dead'][0]\n",
        "p_morte_covid_e_brasil_2020 =  mortes_e_brasil_2020 / total_populacao_2020\n",
        "print(f'A probabilidade de ser morto pelo covid e ser brasileiro é de {p_morte_covid_e_brasil_2020*100:.4f}%')\n",
        "\n",
        "total_brasil_populacao_2020 = total_dados_2020['populacao total'][0]\n",
        "p_morte_covid_ser_brasileiro_2020 = mortes_e_brasil_2020 / total_brasil_populacao_2020\n",
        "print('A probabilidade de ser morto pelo covid |', f'ser brasileiro é de {p_morte_covid_ser_brasileiro_2020*100:.4f}%')\n",
        "\n",
        "#Data_Frame\n",
        "\n",
        "coluna = '2020 2021'.split()\n",
        "linha = 'P(mortes) P(mortes_covid_e_ser_Brasileiro) P(mortes_covid_|_ser_Brasileiro)'.split()\n",
        "comparacao_dados_brasil_2020_morte = (f'{p_morte_2020*100:.4f}%'), (f'{p_morte_covid_e_brasil_2020*100:.4f}%'), (f'{p_morte_covid_ser_brasileiro_2020*100:.4f}%')\n",
        "comparacao_dados_brasil_2021_morte = (f'{p_morte*100:.2f}%'), (f'{p_morte_covid_e_brasil*100:.4f}%'), (f'{p_morte_covid_ser_brasileiro*100:.4f}%')\n",
        "\n",
        "df_Brasil_morte = pd.DataFrame(columns= coluna, index= linha)\n",
        "df_Brasil_morte['2020'] = comparacao_dados_brasil_2020_morte\n",
        "df_Brasil_morte['2021'] = comparacao_dados_brasil_2021_morte\n",
        "df_Brasil_morte\n"
      ],
      "execution_count": 63,
      "outputs": [
        {
          "output_type": "stream",
          "text": [
            "A probabilidade de ser morto pelo covid é de 0.0149%\n",
            "A probabilidade de ser morto pelo covid e ser brasileiro é de 0.0007%\n",
            "A probabilidade de ser morto pelo covid | ser brasileiro é de 0.0022%\n"
          ],
          "name": "stdout"
        },
        {
          "output_type": "execute_result",
          "data": {
            "text/html": [
              "<div>\n",
              "<style scoped>\n",
              "    .dataframe tbody tr th:only-of-type {\n",
              "        vertical-align: middle;\n",
              "    }\n",
              "\n",
              "    .dataframe tbody tr th {\n",
              "        vertical-align: top;\n",
              "    }\n",
              "\n",
              "    .dataframe thead th {\n",
              "        text-align: right;\n",
              "    }\n",
              "</style>\n",
              "<table border=\"1\" class=\"dataframe\">\n",
              "  <thead>\n",
              "    <tr style=\"text-align: right;\">\n",
              "      <th></th>\n",
              "      <th>2020</th>\n",
              "      <th>2021</th>\n",
              "    </tr>\n",
              "  </thead>\n",
              "  <tbody>\n",
              "    <tr>\n",
              "      <th>P(mortes)</th>\n",
              "      <td>0.0149%</td>\n",
              "      <td>0.18%</td>\n",
              "    </tr>\n",
              "    <tr>\n",
              "      <th>P(mortes_covid_e_ser_Brasileiro)</th>\n",
              "      <td>0.0007%</td>\n",
              "      <td>0.0641%</td>\n",
              "    </tr>\n",
              "    <tr>\n",
              "      <th>P(mortes_covid_|_ser_Brasileiro)</th>\n",
              "      <td>0.0022%</td>\n",
              "      <td>0.1941%</td>\n",
              "    </tr>\n",
              "  </tbody>\n",
              "</table>\n",
              "</div>"
            ],
            "text/plain": [
              "                                     2020     2021\n",
              "P(mortes)                         0.0149%    0.18%\n",
              "P(mortes_covid_e_ser_Brasileiro)  0.0007%  0.0641%\n",
              "P(mortes_covid_|_ser_Brasileiro)  0.0022%  0.1941%"
            ]
          },
          "metadata": {
            "tags": []
          },
          "execution_count": 63
        }
      ]
    },
    {
      "cell_type": "code",
      "metadata": {
        "colab": {
          "base_uri": "https://localhost:8080/"
        },
        "id": "aElB78TG7l7P",
        "outputId": "7a286a02-2dd7-44ba-95a2-f6a1f41652a5"
      },
      "source": [
        "# e-)\n",
        "morte_e_US = total_dados['dead'][3]\n",
        "p_morte_covid_e_US = morte_e_US / total_populacao\n",
        "print(f'A probabilidade de ser morto pelo covid e ser americano é de {p_morte_covid_e_US*100:.2f}%')"
      ],
      "execution_count": 64,
      "outputs": [
        {
          "output_type": "stream",
          "text": [
            "A probabilidade de ser morto pelo covid e ser americano é de 0.09%\n"
          ],
          "name": "stdout"
        }
      ]
    },
    {
      "cell_type": "code",
      "metadata": {
        "colab": {
          "base_uri": "https://localhost:8080/"
        },
        "id": "k4NLqthq7mBH",
        "outputId": "7fe8f632-94ef-45cb-e85f-139ecbca96e0"
      },
      "source": [
        "# f-)\n",
        "total_US_populacao = total_dados['total population'][3]\n",
        "p_morte_covid_ser_americano = morte_e_US / total_US_populacao\n",
        "print('A probabilidade de ser morto pelo covid |', f'ser americano é de {p_morte_covid_ser_americano*100:.2f}%')"
      ],
      "execution_count": 65,
      "outputs": [
        {
          "output_type": "stream",
          "text": [
            "A probabilidade de ser morto pelo covid | ser americano é de 0.18%\n"
          ],
          "name": "stdout"
        }
      ]
    },
    {
      "cell_type": "code",
      "metadata": {
        "colab": {
          "base_uri": "https://localhost:8080/",
          "height": 145
        },
        "id": "G2I5CI8g7mG1",
        "outputId": "208a7592-86fd-4f6a-c376-2667b3dc1d4d"
      },
      "source": [
        "# g-)\n",
        "morte_e_US_2020 = total_dados_2020['dead'][3]\n",
        "p_morte_covid_e_US_2020 = morte_e_US_2020 / total_populacao_2020\n",
        "print(f'A probabilidade de ser morto pelo covid e ser americano é de {p_morte_covid_e_US_2020*100:.2f}%')\n",
        "\n",
        "total_US_populacao_2020 = total_dados_2020['populacao total'][3]\n",
        "p_morte_covid_ser_americano_2020 = morte_e_US_2020 / total_US_populacao_2020\n",
        "print('A probabilidade de ser morto pelo covid |', f'ser americano é de {p_morte_covid_ser_americano_2020*100:.2f}%')\n",
        "\n",
        "#Data_Frame\n",
        "\n",
        "coluna = '2020 2021'.split()\n",
        "linha = 'P(mortes_covid_e_ser_Americano) P(mortes_covid_|_ser_Americano)'.split()\n",
        "comparacao_dados_US_2020_morte = (f'{p_morte_covid_e_US_2020*100:.2f}%'), (f'{p_morte_covid_ser_americano_2020*100:.2f}%')\n",
        "comparacao_dados_US_2021_morte = (f'{p_morte_covid_e_US*100:.2f}%'), (f'{p_morte_covid_ser_americano*100:.2f}%')\n",
        "\n",
        "df_US_morte = pd.DataFrame(columns= coluna, index= linha)\n",
        "df_US_morte['2020'] = comparacao_dados_US_2020_morte\n",
        "df_US_morte['2021'] = comparacao_dados_US_2021_morte\n",
        "df_US_morte\n"
      ],
      "execution_count": 66,
      "outputs": [
        {
          "output_type": "stream",
          "text": [
            "A probabilidade de ser morto pelo covid e ser americano é de 0.01%\n",
            "A probabilidade de ser morto pelo covid | ser americano é de 0.02%\n"
          ],
          "name": "stdout"
        },
        {
          "output_type": "execute_result",
          "data": {
            "text/html": [
              "<div>\n",
              "<style scoped>\n",
              "    .dataframe tbody tr th:only-of-type {\n",
              "        vertical-align: middle;\n",
              "    }\n",
              "\n",
              "    .dataframe tbody tr th {\n",
              "        vertical-align: top;\n",
              "    }\n",
              "\n",
              "    .dataframe thead th {\n",
              "        text-align: right;\n",
              "    }\n",
              "</style>\n",
              "<table border=\"1\" class=\"dataframe\">\n",
              "  <thead>\n",
              "    <tr style=\"text-align: right;\">\n",
              "      <th></th>\n",
              "      <th>2020</th>\n",
              "      <th>2021</th>\n",
              "    </tr>\n",
              "  </thead>\n",
              "  <tbody>\n",
              "    <tr>\n",
              "      <th>P(mortes_covid_e_ser_Americano)</th>\n",
              "      <td>0.01%</td>\n",
              "      <td>0.09%</td>\n",
              "    </tr>\n",
              "    <tr>\n",
              "      <th>P(mortes_covid_|_ser_Americano)</th>\n",
              "      <td>0.02%</td>\n",
              "      <td>0.18%</td>\n",
              "    </tr>\n",
              "  </tbody>\n",
              "</table>\n",
              "</div>"
            ],
            "text/plain": [
              "                                  2020   2021\n",
              "P(mortes_covid_e_ser_Americano)  0.01%  0.09%\n",
              "P(mortes_covid_|_ser_Americano)  0.02%  0.18%"
            ]
          },
          "metadata": {
            "tags": []
          },
          "execution_count": 66
        }
      ]
    },
    {
      "cell_type": "code",
      "metadata": {
        "colab": {
          "base_uri": "https://localhost:8080/"
        },
        "id": "bPCsReX07mMZ",
        "outputId": "240e09d7-2c13-41e2-d915-83746cfb5c2e"
      },
      "source": [
        "# h-)\n",
        "morte_e_italy = total_dados['dead'][2]\n",
        "p_morte_covid_e_italy = morte_e_italy / total_populacao\n",
        "print(f'A probabilidade de ser morto pelo covid e ser italiano é de {p_morte_covid_e_italy*100:.2f}%')"
      ],
      "execution_count": 67,
      "outputs": [
        {
          "output_type": "stream",
          "text": [
            "A probabilidade de ser morto pelo covid e ser italiano é de 0.02%\n"
          ],
          "name": "stdout"
        }
      ]
    },
    {
      "cell_type": "code",
      "metadata": {
        "colab": {
          "base_uri": "https://localhost:8080/"
        },
        "id": "lu1gIvyH7mRl",
        "outputId": "03708c7d-e8a3-4862-85f4-85350ec07e4d"
      },
      "source": [
        "# i-)\n",
        "total_italy_populacao = total_dados['total population'][2]\n",
        "p_morte_covid_ser_italiano = morte_e_italy / total_italy_populacao\n",
        "print('A probabilidade de ser morto pelo covid |', f'ser italiano é de {p_morte_covid_ser_italiano*100:.2f}%')"
      ],
      "execution_count": 68,
      "outputs": [
        {
          "output_type": "stream",
          "text": [
            "A probabilidade de ser morto pelo covid | ser italiano é de 0.20%\n"
          ],
          "name": "stdout"
        }
      ]
    },
    {
      "cell_type": "code",
      "metadata": {
        "colab": {
          "base_uri": "https://localhost:8080/",
          "height": 145
        },
        "id": "JEl_N4b87mXG",
        "outputId": "bc736f3e-5d36-46d9-eddb-393ab43f2725"
      },
      "source": [
        "# j-) \n",
        "morte_e_italy_2020 = total_dados_2020['dead'][2]\n",
        "p_morte_covid_e_italy_2020 = morte_e_italy_2020 / total_populacao_2020\n",
        "print(f'A probabilidade de ser morto pelo covid e ser italiano é de {p_morte_covid_e_italy_2020*100:.4f}%')\n",
        "\n",
        "total_italy_populacao_2020 = total_dados_2020['populacao total'][2]\n",
        "p_morte_covid_ser_italiano_2020 = morte_e_italy_2020 / total_italy_populacao_2020\n",
        "print('A probabilidade de ser morto pelo covid |', f'ser italiano é de {p_morte_covid_ser_italiano_2020*100:.4f}%')\n",
        "\n",
        "#Data_Frame\n",
        "\n",
        "coluna = '2020 2021'.split()\n",
        "linha = 'P(mortes_covid_e_ser_Italiano) P(mortes_covid_|_ser_Italiano)'.split()\n",
        "comparacao_dados_Italy_2020_morte = (f'{p_morte_covid_e_italy_2020*100:.4f}%'), (f'{p_morte_covid_ser_italiano_2020*100:.4f}%')\n",
        "comparacao_dados_Italy_2021_morte = (f'{p_morte_covid_e_italy*100:.4f}%'), (f'{p_morte_covid_ser_italiano*100:.4f}%')\n",
        "\n",
        "df_Italy_morte = pd.DataFrame(columns= coluna, index= linha)\n",
        "df_Italy_morte['2020'] = comparacao_dados_Italy_2020_morte\n",
        "df_Italy_morte['2021'] = comparacao_dados_Italy_2021_morte\n",
        "df_Italy_morte\n",
        "\n"
      ],
      "execution_count": 69,
      "outputs": [
        {
          "output_type": "stream",
          "text": [
            "A probabilidade de ser morto pelo covid e ser italiano é de 0.0042%\n",
            "A probabilidade de ser morto pelo covid | ser italiano é de 0.0447%\n"
          ],
          "name": "stdout"
        },
        {
          "output_type": "execute_result",
          "data": {
            "text/html": [
              "<div>\n",
              "<style scoped>\n",
              "    .dataframe tbody tr th:only-of-type {\n",
              "        vertical-align: middle;\n",
              "    }\n",
              "\n",
              "    .dataframe tbody tr th {\n",
              "        vertical-align: top;\n",
              "    }\n",
              "\n",
              "    .dataframe thead th {\n",
              "        text-align: right;\n",
              "    }\n",
              "</style>\n",
              "<table border=\"1\" class=\"dataframe\">\n",
              "  <thead>\n",
              "    <tr style=\"text-align: right;\">\n",
              "      <th></th>\n",
              "      <th>2020</th>\n",
              "      <th>2021</th>\n",
              "    </tr>\n",
              "  </thead>\n",
              "  <tbody>\n",
              "    <tr>\n",
              "      <th>P(mortes_covid_e_ser_Italiano)</th>\n",
              "      <td>0.0042%</td>\n",
              "      <td>0.0190%</td>\n",
              "    </tr>\n",
              "    <tr>\n",
              "      <th>P(mortes_covid_|_ser_Italiano)</th>\n",
              "      <td>0.0447%</td>\n",
              "      <td>0.2008%</td>\n",
              "    </tr>\n",
              "  </tbody>\n",
              "</table>\n",
              "</div>"
            ],
            "text/plain": [
              "                                   2020     2021\n",
              "P(mortes_covid_e_ser_Italiano)  0.0042%  0.0190%\n",
              "P(mortes_covid_|_ser_Italiano)  0.0447%  0.2008%"
            ]
          },
          "metadata": {
            "tags": []
          },
          "execution_count": 69
        }
      ]
    },
    {
      "cell_type": "markdown",
      "metadata": {
        "id": "RVfkiuRv7mcx"
      },
      "source": [
        "# Exercicio 5"
      ]
    },
    {
      "cell_type": "code",
      "metadata": {
        "colab": {
          "base_uri": "https://localhost:8080/",
          "height": 258
        },
        "id": "IwA6DRri-cL9",
        "outputId": "352d91a1-8b89-4c8a-d80a-491607614ba5"
      },
      "source": [
        "coluna = '(mortes)2020 (mortes)2021 (infectados)2020 (infectados)2021'.split()\n",
        "linha = 'P(mortes) P(covid_e_ser_Brasileiro) P(covid_|_ser_Brasileiro) P(covid_e_ser_Americano) P(covid_|_ser_Americano) P(covid_e_ser_Italiano) P(covid_|_ser_Italiano)'.split()\n",
        "\n",
        "comparacao_dados_Geral_2020 = (f'{p_infectados_2020*100:.2f}%'), (f'{p_infectado_covid_e_brasil_2020*100:.2f}%'), (f'{p_infectado_covid_ser_brasileiro_2020*100:.2f}%'), (f'{p_infectado_covid_e_US_2020*100:.2f}%'), (f'{p_infectado_covid_ser_americano_2020*100:.2f}%'), (f'{p_infectado_covid_e_italy_2020*100:.2f}%'), (f'{p_infectado_covid_ser_italiano_2020*100:.2f}%')\n",
        "comparacao_dados_Geral_2021 = (f'{p_infectados*100:.2f}%'), (f'{p_infectado_covid_e_brasil*100:.2f}%'), (f'{p_infectado_covid_ser_brasileiro*100:.2f}%'), (f'{p_infectado_covid_e_US*100:.2f}%'), (f'{p_infectado_covid_ser_americano*100:.2f}%'), (f'{p_infectado_covid_e_italy*100:.2f}%'), (f'{p_infectado_covid_ser_italiano*100:.2f}%')\n",
        "\n",
        "comparacao_dados_Geral_2020_morte = (f'{p_morte_2020*100:.4f}%'), (f'{p_morte_covid_e_brasil_2020*100:.4f}%'), (f'{p_morte_covid_ser_brasileiro_2020*100:.4f}%'), (f'{p_morte_covid_e_US_2020*100:.2f}%'), (f'{p_morte_covid_ser_americano_2020*100:.2f}%'), (f'{p_morte_covid_e_italy_2020*100:.4f}%'), (f'{p_morte_covid_ser_italiano_2020*100:.4f}%') \n",
        "comparacao_dados_Geral_2021_morte = (f'{p_morte*100:.2f}%'), (f'{p_morte_covid_e_brasil*100:.4f}%'), (f'{p_morte_covid_ser_brasileiro*100:.4f}%'), (f'{p_morte_covid_e_US*100:.2f}%'), (f'{p_morte_covid_ser_americano*100:.2f}%'), (f'{p_morte_covid_e_italy*100:.4f}%'), (f'{p_morte_covid_ser_italiano*100:.4f}%') \n",
        "\n",
        "df_Geral = pd.DataFrame(columns= coluna, index= linha)\n",
        "df_Geral['(infectados)2020'] = comparacao_dados_Geral_2020\n",
        "df_Geral['(infectados)2021'] = comparacao_dados_Geral_2021\n",
        "df_Geral['(mortes)2020'] = comparacao_dados_Geral_2020_morte\n",
        "df_Geral['(mortes)2021'] = comparacao_dados_Geral_2021_morte\n",
        "\n",
        "df_Geral\n"
      ],
      "execution_count": 70,
      "outputs": [
        {
          "output_type": "execute_result",
          "data": {
            "text/html": [
              "<div>\n",
              "<style scoped>\n",
              "    .dataframe tbody tr th:only-of-type {\n",
              "        vertical-align: middle;\n",
              "    }\n",
              "\n",
              "    .dataframe tbody tr th {\n",
              "        vertical-align: top;\n",
              "    }\n",
              "\n",
              "    .dataframe thead th {\n",
              "        text-align: right;\n",
              "    }\n",
              "</style>\n",
              "<table border=\"1\" class=\"dataframe\">\n",
              "  <thead>\n",
              "    <tr style=\"text-align: right;\">\n",
              "      <th></th>\n",
              "      <th>(mortes)2020</th>\n",
              "      <th>(mortes)2021</th>\n",
              "      <th>(infectados)2020</th>\n",
              "      <th>(infectados)2021</th>\n",
              "    </tr>\n",
              "  </thead>\n",
              "  <tbody>\n",
              "    <tr>\n",
              "      <th>P(mortes)</th>\n",
              "      <td>0.0149%</td>\n",
              "      <td>0.18%</td>\n",
              "      <td>0.21%</td>\n",
              "      <td>8.25%</td>\n",
              "    </tr>\n",
              "    <tr>\n",
              "      <th>P(covid_e_ser_Brasileiro)</th>\n",
              "      <td>0.0007%</td>\n",
              "      <td>0.0641%</td>\n",
              "      <td>0.01%</td>\n",
              "      <td>2.32%</td>\n",
              "    </tr>\n",
              "    <tr>\n",
              "      <th>P(covid_|_ser_Brasileiro)</th>\n",
              "      <td>0.0022%</td>\n",
              "      <td>0.1941%</td>\n",
              "      <td>0.03%</td>\n",
              "      <td>7.03%</td>\n",
              "    </tr>\n",
              "    <tr>\n",
              "      <th>P(covid_e_ser_Americano)</th>\n",
              "      <td>0.01%</td>\n",
              "      <td>0.09%</td>\n",
              "      <td>0.16%</td>\n",
              "      <td>5.10%</td>\n",
              "    </tr>\n",
              "    <tr>\n",
              "      <th>P(covid_|_ser_Americano)</th>\n",
              "      <td>0.02%</td>\n",
              "      <td>0.18%</td>\n",
              "      <td>0.30%</td>\n",
              "      <td>9.88%</td>\n",
              "    </tr>\n",
              "    <tr>\n",
              "      <th>P(covid_e_ser_Italiano)</th>\n",
              "      <td>0.0042%</td>\n",
              "      <td>0.0190%</td>\n",
              "      <td>0.03%</td>\n",
              "      <td>0.64%</td>\n",
              "    </tr>\n",
              "    <tr>\n",
              "      <th>P(covid_|_ser_Italiano)</th>\n",
              "      <td>0.0447%</td>\n",
              "      <td>0.2008%</td>\n",
              "      <td>0.33%</td>\n",
              "      <td>6.70%</td>\n",
              "    </tr>\n",
              "  </tbody>\n",
              "</table>\n",
              "</div>"
            ],
            "text/plain": [
              "                          (mortes)2020  ... (infectados)2021\n",
              "P(mortes)                      0.0149%  ...            8.25%\n",
              "P(covid_e_ser_Brasileiro)      0.0007%  ...            2.32%\n",
              "P(covid_|_ser_Brasileiro)      0.0022%  ...            7.03%\n",
              "P(covid_e_ser_Americano)         0.01%  ...            5.10%\n",
              "P(covid_|_ser_Americano)         0.02%  ...            9.88%\n",
              "P(covid_e_ser_Italiano)        0.0042%  ...            0.64%\n",
              "P(covid_|_ser_Italiano)        0.0447%  ...            6.70%\n",
              "\n",
              "[7 rows x 4 columns]"
            ]
          },
          "metadata": {
            "tags": []
          },
          "execution_count": 70
        }
      ]
    },
    {
      "cell_type": "code",
      "metadata": {
        "id": "zgqDxP5O-cUl"
      },
      "source": [
        ""
      ],
      "execution_count": null,
      "outputs": []
    },
    {
      "cell_type": "code",
      "metadata": {
        "id": "skxw4A6o-cad"
      },
      "source": [
        ""
      ],
      "execution_count": null,
      "outputs": []
    },
    {
      "cell_type": "code",
      "metadata": {
        "id": "BLyX_U5M-cgh"
      },
      "source": [
        ""
      ],
      "execution_count": null,
      "outputs": []
    },
    {
      "cell_type": "code",
      "metadata": {
        "id": "Cgi2CcFk-clD"
      },
      "source": [
        ""
      ],
      "execution_count": null,
      "outputs": []
    }
  ]
}